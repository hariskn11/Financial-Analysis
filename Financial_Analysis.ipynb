{
 "cells": [
  {
   "cell_type": "code",
   "execution_count": 1,
   "metadata": {},
   "outputs": [],
   "source": [
    "import pandas as pd \n",
    "import numpy as np\n",
    "import matplotlib.pyplot as plt \n",
    "import seaborn as sns "
   ]
  },
  {
   "cell_type": "code",
   "execution_count": 2,
   "metadata": {},
   "outputs": [
    {
     "data": {
      "text/html": [
       "<div>\n",
       "<style scoped>\n",
       "    .dataframe tbody tr th:only-of-type {\n",
       "        vertical-align: middle;\n",
       "    }\n",
       "\n",
       "    .dataframe tbody tr th {\n",
       "        vertical-align: top;\n",
       "    }\n",
       "\n",
       "    .dataframe thead th {\n",
       "        text-align: right;\n",
       "    }\n",
       "</style>\n",
       "<table border=\"1\" class=\"dataframe\">\n",
       "  <thead>\n",
       "    <tr style=\"text-align: right;\">\n",
       "      <th></th>\n",
       "      <th>S.No.</th>\n",
       "      <th>Name</th>\n",
       "      <th>Mar Cap - Crore</th>\n",
       "      <th>Sales Qtr - Crore</th>\n",
       "      <th>Unnamed: 4</th>\n",
       "    </tr>\n",
       "  </thead>\n",
       "  <tbody>\n",
       "    <tr>\n",
       "      <th>0</th>\n",
       "      <td>1</td>\n",
       "      <td>Reliance Inds.</td>\n",
       "      <td>583436.72</td>\n",
       "      <td>99810.00</td>\n",
       "      <td>NaN</td>\n",
       "    </tr>\n",
       "    <tr>\n",
       "      <th>1</th>\n",
       "      <td>2</td>\n",
       "      <td>TCS</td>\n",
       "      <td>563709.84</td>\n",
       "      <td>30904.00</td>\n",
       "      <td>NaN</td>\n",
       "    </tr>\n",
       "    <tr>\n",
       "      <th>2</th>\n",
       "      <td>3</td>\n",
       "      <td>HDFC Bank</td>\n",
       "      <td>482953.59</td>\n",
       "      <td>20581.27</td>\n",
       "      <td>NaN</td>\n",
       "    </tr>\n",
       "    <tr>\n",
       "      <th>3</th>\n",
       "      <td>4</td>\n",
       "      <td>ITC</td>\n",
       "      <td>320985.27</td>\n",
       "      <td>9772.02</td>\n",
       "      <td>NaN</td>\n",
       "    </tr>\n",
       "    <tr>\n",
       "      <th>4</th>\n",
       "      <td>5</td>\n",
       "      <td>H D F C</td>\n",
       "      <td>289497.37</td>\n",
       "      <td>16840.51</td>\n",
       "      <td>NaN</td>\n",
       "    </tr>\n",
       "  </tbody>\n",
       "</table>\n",
       "</div>"
      ],
      "text/plain": [
       "   S.No.            Name  Mar Cap - Crore  Sales Qtr - Crore  Unnamed: 4\n",
       "0      1  Reliance Inds.        583436.72           99810.00         NaN\n",
       "1      2             TCS        563709.84           30904.00         NaN\n",
       "2      3       HDFC Bank        482953.59           20581.27         NaN\n",
       "3      4             ITC        320985.27            9772.02         NaN\n",
       "4      5         H D F C        289497.37           16840.51         NaN"
      ]
     },
     "execution_count": 2,
     "metadata": {},
     "output_type": "execute_result"
    }
   ],
   "source": [
    "fi=pd.read_csv(\"D:\\intern\\Financial Analytics data.csv\")\n",
    "fin=pd.DataFrame(fi)\n",
    "fi.head()"
   ]
  },
  {
   "cell_type": "code",
   "execution_count": 3,
   "metadata": {},
   "outputs": [
    {
     "data": {
      "text/plain": [
       "Index(['S.No.', 'Name', 'Mar Cap - Crore', 'Sales Qtr - Crore', 'Unnamed: 4'], dtype='object')"
      ]
     },
     "execution_count": 3,
     "metadata": {},
     "output_type": "execute_result"
    }
   ],
   "source": [
    "fi.columns"
   ]
  },
  {
   "cell_type": "code",
   "execution_count": 4,
   "metadata": {},
   "outputs": [
    {
     "name": "stdout",
     "output_type": "stream",
     "text": [
      "     S.No.              Name  Mar Cap - Crore  Sales Qtr - Crore  Unnamed: 4\n",
      "49      50     Bharti Infra.         61776.92                NaN         NaN\n",
      "60      61       Cairn India         53528.57                NaN     2149.36\n",
      "61      62  Indiabulls Hous.         52781.67                NaN     3115.89\n",
      "62      63       Ambuja Cem.         52361.46                NaN     6170.71\n",
      "63      64  Interglobe Aviat         48621.37                NaN     6177.88\n",
      "..     ...               ...              ...                ...         ...\n",
      "437    450      Force Motors              NaN                NaN         NaN\n",
      "446    459     JP Power Ven.          3597.60                NaN         NaN\n",
      "451    464     Amber Enterp.          3529.87                NaN         NaN\n",
      "459    472   Hind.Construct.          3452.57                NaN         NaN\n",
      "487    500         L T Foods              NaN                NaN         NaN\n",
      "\n",
      "[123 rows x 5 columns]\n",
      "     S.No.              Name  Mar Cap - Crore  Sales Qtr - Crore  Unnamed: 4\n",
      "60      61       Cairn India         53528.57                NaN     2149.36\n",
      "61      62  Indiabulls Hous.         52781.67                NaN     3115.89\n",
      "62      63       Ambuja Cem.         52361.46                NaN     6170.71\n",
      "63      64  Interglobe Aviat         48621.37                NaN     6177.88\n",
      "64      65             Cipla         48577.43                NaN     3913.82\n",
      "..     ...               ...              ...                ...         ...\n",
      "417    430        Minda Corp          3974.83                NaN      636.20\n",
      "422    435  Multi Comm. Exc.          3847.19                NaN       60.97\n",
      "427    440              ICRA          3809.00                NaN       82.87\n",
      "428    441   Shriram Pistons          3804.58                NaN      430.80\n",
      "429    442              IFCI          3789.45                NaN      626.80\n",
      "\n",
      "[94 rows x 5 columns]\n"
     ]
    },
    {
     "data": {
      "text/plain": [
       "S.No.                  0\n",
       "Name                   0\n",
       "Mar Cap - Crore        9\n",
       "Sales Qtr - Crore    123\n",
       "Unnamed: 4           394\n",
       "dtype: int64"
      ]
     },
     "execution_count": 4,
     "metadata": {},
     "output_type": "execute_result"
    }
   ],
   "source": [
    "print(fi[fi[\"Sales Qtr - Crore\"].isnull()])\n",
    "print(fi[fi[\"Unnamed: 4\"].notnull()])\n",
    "fi.isnull().sum()"
   ]
  },
  {
   "cell_type": "code",
   "execution_count": 5,
   "metadata": {},
   "outputs": [],
   "source": [
    "fi['Sales Qtr - Crore'].fillna(fi['Unnamed: 4'],inplace=True)"
   ]
  },
  {
   "cell_type": "code",
   "execution_count": 6,
   "metadata": {},
   "outputs": [
    {
     "data": {
      "text/plain": [
       "S.No.                  0\n",
       "Name                   0\n",
       "Mar Cap - Crore        9\n",
       "Sales Qtr - Crore     29\n",
       "Unnamed: 4           394\n",
       "dtype: int64"
      ]
     },
     "execution_count": 6,
     "metadata": {},
     "output_type": "execute_result"
    }
   ],
   "source": [
    "fi.isnull().sum()"
   ]
  },
  {
   "cell_type": "code",
   "execution_count": 7,
   "metadata": {},
   "outputs": [
    {
     "data": {
      "text/html": [
       "<div>\n",
       "<style scoped>\n",
       "    .dataframe tbody tr th:only-of-type {\n",
       "        vertical-align: middle;\n",
       "    }\n",
       "\n",
       "    .dataframe tbody tr th {\n",
       "        vertical-align: top;\n",
       "    }\n",
       "\n",
       "    .dataframe thead th {\n",
       "        text-align: right;\n",
       "    }\n",
       "</style>\n",
       "<table border=\"1\" class=\"dataframe\">\n",
       "  <thead>\n",
       "    <tr style=\"text-align: right;\">\n",
       "      <th></th>\n",
       "      <th>S.No.</th>\n",
       "      <th>Name</th>\n",
       "      <th>Mar Cap - Crore</th>\n",
       "      <th>Sales Qtr - Crore</th>\n",
       "      <th>Unnamed: 4</th>\n",
       "    </tr>\n",
       "  </thead>\n",
       "  <tbody>\n",
       "    <tr>\n",
       "      <th>49</th>\n",
       "      <td>50</td>\n",
       "      <td>Bharti Infra.</td>\n",
       "      <td>61776.92</td>\n",
       "      <td>NaN</td>\n",
       "      <td>NaN</td>\n",
       "    </tr>\n",
       "    <tr>\n",
       "      <th>99</th>\n",
       "      <td>100</td>\n",
       "      <td>Colgate-Palm.</td>\n",
       "      <td>NaN</td>\n",
       "      <td>NaN</td>\n",
       "      <td>NaN</td>\n",
       "    </tr>\n",
       "    <tr>\n",
       "      <th>147</th>\n",
       "      <td>150</td>\n",
       "      <td>Endurance Tech.</td>\n",
       "      <td>NaN</td>\n",
       "      <td>NaN</td>\n",
       "      <td>NaN</td>\n",
       "    </tr>\n",
       "    <tr>\n",
       "      <th>171</th>\n",
       "      <td>176</td>\n",
       "      <td>Info Edg.(India)</td>\n",
       "      <td>14845.05</td>\n",
       "      <td>NaN</td>\n",
       "      <td>NaN</td>\n",
       "    </tr>\n",
       "    <tr>\n",
       "      <th>185</th>\n",
       "      <td>192</td>\n",
       "      <td>Max Financial</td>\n",
       "      <td>13401.76</td>\n",
       "      <td>NaN</td>\n",
       "      <td>NaN</td>\n",
       "    </tr>\n",
       "    <tr>\n",
       "      <th>193</th>\n",
       "      <td>200</td>\n",
       "      <td>Natl. Aluminium</td>\n",
       "      <td>NaN</td>\n",
       "      <td>NaN</td>\n",
       "      <td>NaN</td>\n",
       "    </tr>\n",
       "    <tr>\n",
       "      <th>224</th>\n",
       "      <td>231</td>\n",
       "      <td>Bombay Burmah</td>\n",
       "      <td>10864.53</td>\n",
       "      <td>NaN</td>\n",
       "      <td>NaN</td>\n",
       "    </tr>\n",
       "    <tr>\n",
       "      <th>241</th>\n",
       "      <td>248</td>\n",
       "      <td>Sundaram Clayton</td>\n",
       "      <td>10074.36</td>\n",
       "      <td>NaN</td>\n",
       "      <td>NaN</td>\n",
       "    </tr>\n",
       "    <tr>\n",
       "      <th>243</th>\n",
       "      <td>250</td>\n",
       "      <td>Mahanagar Gas</td>\n",
       "      <td>NaN</td>\n",
       "      <td>NaN</td>\n",
       "      <td>NaN</td>\n",
       "    </tr>\n",
       "    <tr>\n",
       "      <th>258</th>\n",
       "      <td>271</td>\n",
       "      <td>Mahindra CIE</td>\n",
       "      <td>8587.04</td>\n",
       "      <td>NaN</td>\n",
       "      <td>NaN</td>\n",
       "    </tr>\n",
       "    <tr>\n",
       "      <th>287</th>\n",
       "      <td>300</td>\n",
       "      <td>Bajaj Corp</td>\n",
       "      <td>NaN</td>\n",
       "      <td>NaN</td>\n",
       "      <td>NaN</td>\n",
       "    </tr>\n",
       "    <tr>\n",
       "      <th>314</th>\n",
       "      <td>327</td>\n",
       "      <td>Prism Cement</td>\n",
       "      <td>6176.23</td>\n",
       "      <td>NaN</td>\n",
       "      <td>NaN</td>\n",
       "    </tr>\n",
       "    <tr>\n",
       "      <th>332</th>\n",
       "      <td>345</td>\n",
       "      <td>GE Power</td>\n",
       "      <td>5497.40</td>\n",
       "      <td>NaN</td>\n",
       "      <td>NaN</td>\n",
       "    </tr>\n",
       "    <tr>\n",
       "      <th>337</th>\n",
       "      <td>350</td>\n",
       "      <td>ISGEC Heavy</td>\n",
       "      <td>NaN</td>\n",
       "      <td>NaN</td>\n",
       "      <td>NaN</td>\n",
       "    </tr>\n",
       "    <tr>\n",
       "      <th>338</th>\n",
       "      <td>351</td>\n",
       "      <td>MMTC</td>\n",
       "      <td>5300.00</td>\n",
       "      <td>NaN</td>\n",
       "      <td>NaN</td>\n",
       "    </tr>\n",
       "    <tr>\n",
       "      <th>370</th>\n",
       "      <td>383</td>\n",
       "      <td>Swan Energy</td>\n",
       "      <td>4721.49</td>\n",
       "      <td>NaN</td>\n",
       "      <td>NaN</td>\n",
       "    </tr>\n",
       "    <tr>\n",
       "      <th>374</th>\n",
       "      <td>387</td>\n",
       "      <td>Shoppers St.</td>\n",
       "      <td>4558.06</td>\n",
       "      <td>NaN</td>\n",
       "      <td>NaN</td>\n",
       "    </tr>\n",
       "    <tr>\n",
       "      <th>379</th>\n",
       "      <td>392</td>\n",
       "      <td>Stand.Chart.PLC</td>\n",
       "      <td>4487.31</td>\n",
       "      <td>NaN</td>\n",
       "      <td>NaN</td>\n",
       "    </tr>\n",
       "    <tr>\n",
       "      <th>387</th>\n",
       "      <td>400</td>\n",
       "      <td>BSE</td>\n",
       "      <td>NaN</td>\n",
       "      <td>NaN</td>\n",
       "      <td>NaN</td>\n",
       "    </tr>\n",
       "    <tr>\n",
       "      <th>396</th>\n",
       "      <td>409</td>\n",
       "      <td>Jindal Saw</td>\n",
       "      <td>4278.31</td>\n",
       "      <td>NaN</td>\n",
       "      <td>NaN</td>\n",
       "    </tr>\n",
       "    <tr>\n",
       "      <th>398</th>\n",
       "      <td>411</td>\n",
       "      <td>Linde India</td>\n",
       "      <td>4198.33</td>\n",
       "      <td>NaN</td>\n",
       "      <td>NaN</td>\n",
       "    </tr>\n",
       "    <tr>\n",
       "      <th>409</th>\n",
       "      <td>422</td>\n",
       "      <td>JP Associates</td>\n",
       "      <td>4074.37</td>\n",
       "      <td>NaN</td>\n",
       "      <td>NaN</td>\n",
       "    </tr>\n",
       "    <tr>\n",
       "      <th>418</th>\n",
       "      <td>431</td>\n",
       "      <td>HMT</td>\n",
       "      <td>3973.50</td>\n",
       "      <td>NaN</td>\n",
       "      <td>NaN</td>\n",
       "    </tr>\n",
       "    <tr>\n",
       "      <th>424</th>\n",
       "      <td>437</td>\n",
       "      <td>Gayatri Projects</td>\n",
       "      <td>3835.73</td>\n",
       "      <td>NaN</td>\n",
       "      <td>NaN</td>\n",
       "    </tr>\n",
       "    <tr>\n",
       "      <th>437</th>\n",
       "      <td>450</td>\n",
       "      <td>Force Motors</td>\n",
       "      <td>NaN</td>\n",
       "      <td>NaN</td>\n",
       "      <td>NaN</td>\n",
       "    </tr>\n",
       "    <tr>\n",
       "      <th>446</th>\n",
       "      <td>459</td>\n",
       "      <td>JP Power Ven.</td>\n",
       "      <td>3597.60</td>\n",
       "      <td>NaN</td>\n",
       "      <td>NaN</td>\n",
       "    </tr>\n",
       "    <tr>\n",
       "      <th>451</th>\n",
       "      <td>464</td>\n",
       "      <td>Amber Enterp.</td>\n",
       "      <td>3529.87</td>\n",
       "      <td>NaN</td>\n",
       "      <td>NaN</td>\n",
       "    </tr>\n",
       "    <tr>\n",
       "      <th>459</th>\n",
       "      <td>472</td>\n",
       "      <td>Hind.Construct.</td>\n",
       "      <td>3452.57</td>\n",
       "      <td>NaN</td>\n",
       "      <td>NaN</td>\n",
       "    </tr>\n",
       "    <tr>\n",
       "      <th>487</th>\n",
       "      <td>500</td>\n",
       "      <td>L T Foods</td>\n",
       "      <td>NaN</td>\n",
       "      <td>NaN</td>\n",
       "      <td>NaN</td>\n",
       "    </tr>\n",
       "  </tbody>\n",
       "</table>\n",
       "</div>"
      ],
      "text/plain": [
       "     S.No.              Name  Mar Cap - Crore  Sales Qtr - Crore  Unnamed: 4\n",
       "49      50     Bharti Infra.         61776.92                NaN         NaN\n",
       "99     100     Colgate-Palm.              NaN                NaN         NaN\n",
       "147    150   Endurance Tech.              NaN                NaN         NaN\n",
       "171    176  Info Edg.(India)         14845.05                NaN         NaN\n",
       "185    192     Max Financial         13401.76                NaN         NaN\n",
       "193    200   Natl. Aluminium              NaN                NaN         NaN\n",
       "224    231     Bombay Burmah         10864.53                NaN         NaN\n",
       "241    248  Sundaram Clayton         10074.36                NaN         NaN\n",
       "243    250     Mahanagar Gas              NaN                NaN         NaN\n",
       "258    271      Mahindra CIE          8587.04                NaN         NaN\n",
       "287    300        Bajaj Corp              NaN                NaN         NaN\n",
       "314    327      Prism Cement          6176.23                NaN         NaN\n",
       "332    345          GE Power          5497.40                NaN         NaN\n",
       "337    350       ISGEC Heavy              NaN                NaN         NaN\n",
       "338    351              MMTC          5300.00                NaN         NaN\n",
       "370    383       Swan Energy          4721.49                NaN         NaN\n",
       "374    387      Shoppers St.          4558.06                NaN         NaN\n",
       "379    392   Stand.Chart.PLC          4487.31                NaN         NaN\n",
       "387    400               BSE              NaN                NaN         NaN\n",
       "396    409        Jindal Saw          4278.31                NaN         NaN\n",
       "398    411       Linde India          4198.33                NaN         NaN\n",
       "409    422     JP Associates          4074.37                NaN         NaN\n",
       "418    431               HMT          3973.50                NaN         NaN\n",
       "424    437  Gayatri Projects          3835.73                NaN         NaN\n",
       "437    450      Force Motors              NaN                NaN         NaN\n",
       "446    459     JP Power Ven.          3597.60                NaN         NaN\n",
       "451    464     Amber Enterp.          3529.87                NaN         NaN\n",
       "459    472   Hind.Construct.          3452.57                NaN         NaN\n",
       "487    500         L T Foods              NaN                NaN         NaN"
      ]
     },
     "execution_count": 7,
     "metadata": {},
     "output_type": "execute_result"
    }
   ],
   "source": [
    "fi[fi[\"Sales Qtr - Crore\"].isnull()]"
   ]
  },
  {
   "cell_type": "code",
   "execution_count": 8,
   "metadata": {},
   "outputs": [],
   "source": [
    "fi.drop(['Unnamed: 4'],axis=1,inplace=True)"
   ]
  },
  {
   "cell_type": "code",
   "execution_count": 9,
   "metadata": {},
   "outputs": [
    {
     "data": {
      "text/plain": [
       "S.No.                 0\n",
       "Name                  0\n",
       "Mar Cap - Crore       9\n",
       "Sales Qtr - Crore    29\n",
       "dtype: int64"
      ]
     },
     "execution_count": 9,
     "metadata": {},
     "output_type": "execute_result"
    }
   ],
   "source": [
    "fi.isnull().sum()"
   ]
  },
  {
   "cell_type": "code",
   "execution_count": 10,
   "metadata": {},
   "outputs": [
    {
     "data": {
      "text/html": [
       "<div>\n",
       "<style scoped>\n",
       "    .dataframe tbody tr th:only-of-type {\n",
       "        vertical-align: middle;\n",
       "    }\n",
       "\n",
       "    .dataframe tbody tr th {\n",
       "        vertical-align: top;\n",
       "    }\n",
       "\n",
       "    .dataframe thead th {\n",
       "        text-align: right;\n",
       "    }\n",
       "</style>\n",
       "<table border=\"1\" class=\"dataframe\">\n",
       "  <thead>\n",
       "    <tr style=\"text-align: right;\">\n",
       "      <th></th>\n",
       "      <th>S.No.</th>\n",
       "      <th>Name</th>\n",
       "      <th>Mar Cap - Crore</th>\n",
       "      <th>Sales Qtr - Crore</th>\n",
       "    </tr>\n",
       "  </thead>\n",
       "  <tbody>\n",
       "    <tr>\n",
       "      <th>99</th>\n",
       "      <td>100</td>\n",
       "      <td>Colgate-Palm.</td>\n",
       "      <td>NaN</td>\n",
       "      <td>NaN</td>\n",
       "    </tr>\n",
       "    <tr>\n",
       "      <th>147</th>\n",
       "      <td>150</td>\n",
       "      <td>Endurance Tech.</td>\n",
       "      <td>NaN</td>\n",
       "      <td>NaN</td>\n",
       "    </tr>\n",
       "    <tr>\n",
       "      <th>193</th>\n",
       "      <td>200</td>\n",
       "      <td>Natl. Aluminium</td>\n",
       "      <td>NaN</td>\n",
       "      <td>NaN</td>\n",
       "    </tr>\n",
       "    <tr>\n",
       "      <th>243</th>\n",
       "      <td>250</td>\n",
       "      <td>Mahanagar Gas</td>\n",
       "      <td>NaN</td>\n",
       "      <td>NaN</td>\n",
       "    </tr>\n",
       "    <tr>\n",
       "      <th>287</th>\n",
       "      <td>300</td>\n",
       "      <td>Bajaj Corp</td>\n",
       "      <td>NaN</td>\n",
       "      <td>NaN</td>\n",
       "    </tr>\n",
       "    <tr>\n",
       "      <th>337</th>\n",
       "      <td>350</td>\n",
       "      <td>ISGEC Heavy</td>\n",
       "      <td>NaN</td>\n",
       "      <td>NaN</td>\n",
       "    </tr>\n",
       "    <tr>\n",
       "      <th>387</th>\n",
       "      <td>400</td>\n",
       "      <td>BSE</td>\n",
       "      <td>NaN</td>\n",
       "      <td>NaN</td>\n",
       "    </tr>\n",
       "    <tr>\n",
       "      <th>437</th>\n",
       "      <td>450</td>\n",
       "      <td>Force Motors</td>\n",
       "      <td>NaN</td>\n",
       "      <td>NaN</td>\n",
       "    </tr>\n",
       "    <tr>\n",
       "      <th>487</th>\n",
       "      <td>500</td>\n",
       "      <td>L T Foods</td>\n",
       "      <td>NaN</td>\n",
       "      <td>NaN</td>\n",
       "    </tr>\n",
       "  </tbody>\n",
       "</table>\n",
       "</div>"
      ],
      "text/plain": [
       "     S.No.             Name  Mar Cap - Crore  Sales Qtr - Crore\n",
       "99     100    Colgate-Palm.              NaN                NaN\n",
       "147    150  Endurance Tech.              NaN                NaN\n",
       "193    200  Natl. Aluminium              NaN                NaN\n",
       "243    250    Mahanagar Gas              NaN                NaN\n",
       "287    300       Bajaj Corp              NaN                NaN\n",
       "337    350      ISGEC Heavy              NaN                NaN\n",
       "387    400              BSE              NaN                NaN\n",
       "437    450     Force Motors              NaN                NaN\n",
       "487    500        L T Foods              NaN                NaN"
      ]
     },
     "execution_count": 10,
     "metadata": {},
     "output_type": "execute_result"
    }
   ],
   "source": [
    "fi[fi[\"Mar Cap - Crore\"].isnull()]"
   ]
  },
  {
   "cell_type": "code",
   "execution_count": 11,
   "metadata": {},
   "outputs": [
    {
     "data": {
      "text/html": [
       "<div>\n",
       "<style scoped>\n",
       "    .dataframe tbody tr th:only-of-type {\n",
       "        vertical-align: middle;\n",
       "    }\n",
       "\n",
       "    .dataframe tbody tr th {\n",
       "        vertical-align: top;\n",
       "    }\n",
       "\n",
       "    .dataframe thead th {\n",
       "        text-align: right;\n",
       "    }\n",
       "</style>\n",
       "<table border=\"1\" class=\"dataframe\">\n",
       "  <thead>\n",
       "    <tr style=\"text-align: right;\">\n",
       "      <th></th>\n",
       "      <th>S.No.</th>\n",
       "      <th>Mar Cap - Crore</th>\n",
       "      <th>Sales Qtr - Crore</th>\n",
       "    </tr>\n",
       "  </thead>\n",
       "  <tbody>\n",
       "    <tr>\n",
       "      <th>count</th>\n",
       "      <td>488.000000</td>\n",
       "      <td>479.000000</td>\n",
       "      <td>459.000000</td>\n",
       "    </tr>\n",
       "    <tr>\n",
       "      <th>mean</th>\n",
       "      <td>251.508197</td>\n",
       "      <td>28043.857119</td>\n",
       "      <td>3807.789412</td>\n",
       "    </tr>\n",
       "    <tr>\n",
       "      <th>std</th>\n",
       "      <td>145.884078</td>\n",
       "      <td>59464.615831</td>\n",
       "      <td>9989.449987</td>\n",
       "    </tr>\n",
       "    <tr>\n",
       "      <th>min</th>\n",
       "      <td>1.000000</td>\n",
       "      <td>3017.070000</td>\n",
       "      <td>0.000000</td>\n",
       "    </tr>\n",
       "    <tr>\n",
       "      <th>25%</th>\n",
       "      <td>122.750000</td>\n",
       "      <td>4843.575000</td>\n",
       "      <td>534.910000</td>\n",
       "    </tr>\n",
       "    <tr>\n",
       "      <th>50%</th>\n",
       "      <td>252.500000</td>\n",
       "      <td>9885.050000</td>\n",
       "      <td>1137.170000</td>\n",
       "    </tr>\n",
       "    <tr>\n",
       "      <th>75%</th>\n",
       "      <td>378.250000</td>\n",
       "      <td>23549.900000</td>\n",
       "      <td>2730.195000</td>\n",
       "    </tr>\n",
       "    <tr>\n",
       "      <th>max</th>\n",
       "      <td>500.000000</td>\n",
       "      <td>583436.720000</td>\n",
       "      <td>110666.930000</td>\n",
       "    </tr>\n",
       "  </tbody>\n",
       "</table>\n",
       "</div>"
      ],
      "text/plain": [
       "            S.No.  Mar Cap - Crore  Sales Qtr - Crore\n",
       "count  488.000000       479.000000         459.000000\n",
       "mean   251.508197     28043.857119        3807.789412\n",
       "std    145.884078     59464.615831        9989.449987\n",
       "min      1.000000      3017.070000           0.000000\n",
       "25%    122.750000      4843.575000         534.910000\n",
       "50%    252.500000      9885.050000        1137.170000\n",
       "75%    378.250000     23549.900000        2730.195000\n",
       "max    500.000000    583436.720000      110666.930000"
      ]
     },
     "execution_count": 11,
     "metadata": {},
     "output_type": "execute_result"
    }
   ],
   "source": [
    "fi.describe()"
   ]
  },
  {
   "cell_type": "code",
   "execution_count": 12,
   "metadata": {},
   "outputs": [
    {
     "name": "stdout",
     "output_type": "stream",
     "text": [
      "<class 'pandas.core.frame.DataFrame'>\n",
      "RangeIndex: 488 entries, 0 to 487\n",
      "Data columns (total 4 columns):\n",
      " #   Column             Non-Null Count  Dtype  \n",
      "---  ------             --------------  -----  \n",
      " 0   S.No.              488 non-null    int64  \n",
      " 1   Name               488 non-null    object \n",
      " 2   Mar Cap - Crore    479 non-null    float64\n",
      " 3   Sales Qtr - Crore  459 non-null    float64\n",
      "dtypes: float64(2), int64(1), object(1)\n",
      "memory usage: 15.4+ KB\n"
     ]
    }
   ],
   "source": [
    "fi.info()"
   ]
  },
  {
   "cell_type": "code",
   "execution_count": 13,
   "metadata": {},
   "outputs": [
    {
     "data": {
      "text/plain": [
       "S.No.                 0\n",
       "Name                  0\n",
       "Mar Cap - Crore       0\n",
       "Sales Qtr - Crore    20\n",
       "dtype: int64"
      ]
     },
     "execution_count": 13,
     "metadata": {},
     "output_type": "execute_result"
    }
   ],
   "source": [
    "fi=fi[~fi[\"Mar Cap - Crore\"].isnull()].copy()\n",
    "fi.isnull().sum()"
   ]
  },
  {
   "cell_type": "code",
   "execution_count": 14,
   "metadata": {},
   "outputs": [
    {
     "data": {
      "text/plain": [
       "0"
      ]
     },
     "execution_count": 14,
     "metadata": {},
     "output_type": "execute_result"
    }
   ],
   "source": [
    "fi['Name'].duplicated().sum()"
   ]
  },
  {
   "cell_type": "code",
   "execution_count": 15,
   "metadata": {},
   "outputs": [
    {
     "name": "stdout",
     "output_type": "stream",
     "text": [
      "3807.7894117647065\n",
      "1137.17\n",
      "0           0.00\n",
      "1          19.42\n",
      "2          47.02\n",
      "3          47.24\n",
      "4          60.97\n",
      "         ...    \n",
      "454     57474.25\n",
      "455     60616.36\n",
      "456     74156.07\n",
      "457     99810.00\n",
      "458    110666.93\n",
      "Name: Sales Qtr - Crore, Length: 459, dtype: float64\n"
     ]
    }
   ],
   "source": [
    "print(fi[\"Sales Qtr - Crore\"].mean())\n",
    "print(fi[\"Sales Qtr - Crore\"].median())\n",
    "print(fi[\"Sales Qtr - Crore\"].mode())"
   ]
  },
  {
   "cell_type": "code",
   "execution_count": 16,
   "metadata": {},
   "outputs": [
    {
     "data": {
      "text/html": [
       "<div>\n",
       "<style scoped>\n",
       "    .dataframe tbody tr th:only-of-type {\n",
       "        vertical-align: middle;\n",
       "    }\n",
       "\n",
       "    .dataframe tbody tr th {\n",
       "        vertical-align: top;\n",
       "    }\n",
       "\n",
       "    .dataframe thead th {\n",
       "        text-align: right;\n",
       "    }\n",
       "</style>\n",
       "<table border=\"1\" class=\"dataframe\">\n",
       "  <thead>\n",
       "    <tr style=\"text-align: right;\">\n",
       "      <th></th>\n",
       "      <th>S.No.</th>\n",
       "      <th>Name</th>\n",
       "      <th>Mar Cap - Crore</th>\n",
       "      <th>Sales Qtr - Crore</th>\n",
       "    </tr>\n",
       "  </thead>\n",
       "  <tbody>\n",
       "    <tr>\n",
       "      <th>60</th>\n",
       "      <td>61</td>\n",
       "      <td>Cairn India</td>\n",
       "      <td>53528.57</td>\n",
       "      <td>2149.36</td>\n",
       "    </tr>\n",
       "    <tr>\n",
       "      <th>61</th>\n",
       "      <td>62</td>\n",
       "      <td>Indiabulls Hous.</td>\n",
       "      <td>52781.67</td>\n",
       "      <td>3115.89</td>\n",
       "    </tr>\n",
       "    <tr>\n",
       "      <th>62</th>\n",
       "      <td>63</td>\n",
       "      <td>Ambuja Cem.</td>\n",
       "      <td>52361.46</td>\n",
       "      <td>6170.71</td>\n",
       "    </tr>\n",
       "    <tr>\n",
       "      <th>63</th>\n",
       "      <td>64</td>\n",
       "      <td>Interglobe Aviat</td>\n",
       "      <td>48621.37</td>\n",
       "      <td>6177.88</td>\n",
       "    </tr>\n",
       "    <tr>\n",
       "      <th>64</th>\n",
       "      <td>65</td>\n",
       "      <td>Cipla</td>\n",
       "      <td>48577.43</td>\n",
       "      <td>3913.82</td>\n",
       "    </tr>\n",
       "    <tr>\n",
       "      <th>65</th>\n",
       "      <td>66</td>\n",
       "      <td>Piramal Enterp.</td>\n",
       "      <td>47483.97</td>\n",
       "      <td>2858.36</td>\n",
       "    </tr>\n",
       "    <tr>\n",
       "      <th>66</th>\n",
       "      <td>67</td>\n",
       "      <td>United Spirits</td>\n",
       "      <td>46725.05</td>\n",
       "      <td>2263.30</td>\n",
       "    </tr>\n",
       "    <tr>\n",
       "      <th>67</th>\n",
       "      <td>68</td>\n",
       "      <td>Pidilite Inds.</td>\n",
       "      <td>45855.50</td>\n",
       "      <td>1542.90</td>\n",
       "    </tr>\n",
       "    <tr>\n",
       "      <th>68</th>\n",
       "      <td>69</td>\n",
       "      <td>Siemens</td>\n",
       "      <td>44239.04</td>\n",
       "      <td>2429.50</td>\n",
       "    </tr>\n",
       "    <tr>\n",
       "      <th>69</th>\n",
       "      <td>70</td>\n",
       "      <td>Cadila Health.</td>\n",
       "      <td>41876.19</td>\n",
       "      <td>3259.60</td>\n",
       "    </tr>\n",
       "    <tr>\n",
       "      <th>70</th>\n",
       "      <td>71</td>\n",
       "      <td>NMDC</td>\n",
       "      <td>41415.33</td>\n",
       "      <td>2469.03</td>\n",
       "    </tr>\n",
       "  </tbody>\n",
       "</table>\n",
       "</div>"
      ],
      "text/plain": [
       "    S.No.              Name  Mar Cap - Crore  Sales Qtr - Crore\n",
       "60     61       Cairn India         53528.57            2149.36\n",
       "61     62  Indiabulls Hous.         52781.67            3115.89\n",
       "62     63       Ambuja Cem.         52361.46            6170.71\n",
       "63     64  Interglobe Aviat         48621.37            6177.88\n",
       "64     65             Cipla         48577.43            3913.82\n",
       "65     66   Piramal Enterp.         47483.97            2858.36\n",
       "66     67    United Spirits         46725.05            2263.30\n",
       "67     68    Pidilite Inds.         45855.50            1542.90\n",
       "68     69           Siemens         44239.04            2429.50\n",
       "69     70    Cadila Health.         41876.19            3259.60\n",
       "70     71              NMDC         41415.33            2469.03"
      ]
     },
     "execution_count": 16,
     "metadata": {},
     "output_type": "execute_result"
    }
   ],
   "source": [
    "fi.loc[60:70,:]"
   ]
  },
  {
   "cell_type": "code",
   "execution_count": 17,
   "metadata": {},
   "outputs": [
    {
     "data": {
      "text/html": [
       "<div>\n",
       "<style scoped>\n",
       "    .dataframe tbody tr th:only-of-type {\n",
       "        vertical-align: middle;\n",
       "    }\n",
       "\n",
       "    .dataframe tbody tr th {\n",
       "        vertical-align: top;\n",
       "    }\n",
       "\n",
       "    .dataframe thead th {\n",
       "        text-align: right;\n",
       "    }\n",
       "</style>\n",
       "<table border=\"1\" class=\"dataframe\">\n",
       "  <thead>\n",
       "    <tr style=\"text-align: right;\">\n",
       "      <th></th>\n",
       "      <th>S.No.</th>\n",
       "      <th>Name</th>\n",
       "      <th>Mar Cap - Crore</th>\n",
       "      <th>Sales Qtr - Crore</th>\n",
       "    </tr>\n",
       "  </thead>\n",
       "  <tbody>\n",
       "    <tr>\n",
       "      <th>0</th>\n",
       "      <td>1</td>\n",
       "      <td>Reliance Inds.</td>\n",
       "      <td>583436.72</td>\n",
       "      <td>99810.00</td>\n",
       "    </tr>\n",
       "    <tr>\n",
       "      <th>1</th>\n",
       "      <td>2</td>\n",
       "      <td>TCS</td>\n",
       "      <td>563709.84</td>\n",
       "      <td>30904.00</td>\n",
       "    </tr>\n",
       "    <tr>\n",
       "      <th>2</th>\n",
       "      <td>3</td>\n",
       "      <td>HDFC Bank</td>\n",
       "      <td>482953.59</td>\n",
       "      <td>20581.27</td>\n",
       "    </tr>\n",
       "    <tr>\n",
       "      <th>3</th>\n",
       "      <td>4</td>\n",
       "      <td>ITC</td>\n",
       "      <td>320985.27</td>\n",
       "      <td>9772.02</td>\n",
       "    </tr>\n",
       "    <tr>\n",
       "      <th>4</th>\n",
       "      <td>5</td>\n",
       "      <td>H D F C</td>\n",
       "      <td>289497.37</td>\n",
       "      <td>16840.51</td>\n",
       "    </tr>\n",
       "    <tr>\n",
       "      <th>...</th>\n",
       "      <td>...</td>\n",
       "      <td>...</td>\n",
       "      <td>...</td>\n",
       "      <td>...</td>\n",
       "    </tr>\n",
       "    <tr>\n",
       "      <th>482</th>\n",
       "      <td>495</td>\n",
       "      <td>Prime Focus</td>\n",
       "      <td>3031.50</td>\n",
       "      <td>609.61</td>\n",
       "    </tr>\n",
       "    <tr>\n",
       "      <th>483</th>\n",
       "      <td>496</td>\n",
       "      <td>Lak. Vilas Bank</td>\n",
       "      <td>3029.57</td>\n",
       "      <td>790.17</td>\n",
       "    </tr>\n",
       "    <tr>\n",
       "      <th>484</th>\n",
       "      <td>497</td>\n",
       "      <td>NOCIL</td>\n",
       "      <td>3026.26</td>\n",
       "      <td>249.27</td>\n",
       "    </tr>\n",
       "    <tr>\n",
       "      <th>485</th>\n",
       "      <td>498</td>\n",
       "      <td>Orient Cement</td>\n",
       "      <td>3024.32</td>\n",
       "      <td>511.53</td>\n",
       "    </tr>\n",
       "    <tr>\n",
       "      <th>486</th>\n",
       "      <td>499</td>\n",
       "      <td>Natl.Fertilizer</td>\n",
       "      <td>3017.07</td>\n",
       "      <td>2840.75</td>\n",
       "    </tr>\n",
       "  </tbody>\n",
       "</table>\n",
       "<p>479 rows × 4 columns</p>\n",
       "</div>"
      ],
      "text/plain": [
       "     S.No.             Name  Mar Cap - Crore  Sales Qtr - Crore\n",
       "0        1   Reliance Inds.        583436.72           99810.00\n",
       "1        2              TCS        563709.84           30904.00\n",
       "2        3        HDFC Bank        482953.59           20581.27\n",
       "3        4              ITC        320985.27            9772.02\n",
       "4        5          H D F C        289497.37           16840.51\n",
       "..     ...              ...              ...                ...\n",
       "482    495      Prime Focus          3031.50             609.61\n",
       "483    496  Lak. Vilas Bank          3029.57             790.17\n",
       "484    497            NOCIL          3026.26             249.27\n",
       "485    498    Orient Cement          3024.32             511.53\n",
       "486    499  Natl.Fertilizer          3017.07            2840.75\n",
       "\n",
       "[479 rows x 4 columns]"
      ]
     },
     "execution_count": 17,
     "metadata": {},
     "output_type": "execute_result"
    }
   ],
   "source": [
    "max(fi[\"Sales Qtr - Crore\"])\n",
    "fi"
   ]
  },
  {
   "cell_type": "code",
   "execution_count": 18,
   "metadata": {},
   "outputs": [
    {
     "data": {
      "text/html": [
       "<div>\n",
       "<style scoped>\n",
       "    .dataframe tbody tr th:only-of-type {\n",
       "        vertical-align: middle;\n",
       "    }\n",
       "\n",
       "    .dataframe tbody tr th {\n",
       "        vertical-align: top;\n",
       "    }\n",
       "\n",
       "    .dataframe thead th {\n",
       "        text-align: right;\n",
       "    }\n",
       "</style>\n",
       "<table border=\"1\" class=\"dataframe\">\n",
       "  <thead>\n",
       "    <tr style=\"text-align: right;\">\n",
       "      <th></th>\n",
       "      <th>S.No.</th>\n",
       "      <th>Name</th>\n",
       "      <th>Mar Cap - Crore</th>\n",
       "      <th>Sales Qtr - Crore</th>\n",
       "    </tr>\n",
       "  </thead>\n",
       "  <tbody>\n",
       "    <tr>\n",
       "      <th>49</th>\n",
       "      <td>50</td>\n",
       "      <td>Bharti Infra.</td>\n",
       "      <td>61776.92</td>\n",
       "      <td>NaN</td>\n",
       "    </tr>\n",
       "    <tr>\n",
       "      <th>171</th>\n",
       "      <td>176</td>\n",
       "      <td>Info Edg.(India)</td>\n",
       "      <td>14845.05</td>\n",
       "      <td>NaN</td>\n",
       "    </tr>\n",
       "    <tr>\n",
       "      <th>185</th>\n",
       "      <td>192</td>\n",
       "      <td>Max Financial</td>\n",
       "      <td>13401.76</td>\n",
       "      <td>NaN</td>\n",
       "    </tr>\n",
       "    <tr>\n",
       "      <th>224</th>\n",
       "      <td>231</td>\n",
       "      <td>Bombay Burmah</td>\n",
       "      <td>10864.53</td>\n",
       "      <td>NaN</td>\n",
       "    </tr>\n",
       "    <tr>\n",
       "      <th>241</th>\n",
       "      <td>248</td>\n",
       "      <td>Sundaram Clayton</td>\n",
       "      <td>10074.36</td>\n",
       "      <td>NaN</td>\n",
       "    </tr>\n",
       "    <tr>\n",
       "      <th>258</th>\n",
       "      <td>271</td>\n",
       "      <td>Mahindra CIE</td>\n",
       "      <td>8587.04</td>\n",
       "      <td>NaN</td>\n",
       "    </tr>\n",
       "    <tr>\n",
       "      <th>314</th>\n",
       "      <td>327</td>\n",
       "      <td>Prism Cement</td>\n",
       "      <td>6176.23</td>\n",
       "      <td>NaN</td>\n",
       "    </tr>\n",
       "    <tr>\n",
       "      <th>332</th>\n",
       "      <td>345</td>\n",
       "      <td>GE Power</td>\n",
       "      <td>5497.40</td>\n",
       "      <td>NaN</td>\n",
       "    </tr>\n",
       "    <tr>\n",
       "      <th>338</th>\n",
       "      <td>351</td>\n",
       "      <td>MMTC</td>\n",
       "      <td>5300.00</td>\n",
       "      <td>NaN</td>\n",
       "    </tr>\n",
       "    <tr>\n",
       "      <th>370</th>\n",
       "      <td>383</td>\n",
       "      <td>Swan Energy</td>\n",
       "      <td>4721.49</td>\n",
       "      <td>NaN</td>\n",
       "    </tr>\n",
       "    <tr>\n",
       "      <th>374</th>\n",
       "      <td>387</td>\n",
       "      <td>Shoppers St.</td>\n",
       "      <td>4558.06</td>\n",
       "      <td>NaN</td>\n",
       "    </tr>\n",
       "    <tr>\n",
       "      <th>379</th>\n",
       "      <td>392</td>\n",
       "      <td>Stand.Chart.PLC</td>\n",
       "      <td>4487.31</td>\n",
       "      <td>NaN</td>\n",
       "    </tr>\n",
       "    <tr>\n",
       "      <th>396</th>\n",
       "      <td>409</td>\n",
       "      <td>Jindal Saw</td>\n",
       "      <td>4278.31</td>\n",
       "      <td>NaN</td>\n",
       "    </tr>\n",
       "    <tr>\n",
       "      <th>398</th>\n",
       "      <td>411</td>\n",
       "      <td>Linde India</td>\n",
       "      <td>4198.33</td>\n",
       "      <td>NaN</td>\n",
       "    </tr>\n",
       "    <tr>\n",
       "      <th>409</th>\n",
       "      <td>422</td>\n",
       "      <td>JP Associates</td>\n",
       "      <td>4074.37</td>\n",
       "      <td>NaN</td>\n",
       "    </tr>\n",
       "    <tr>\n",
       "      <th>418</th>\n",
       "      <td>431</td>\n",
       "      <td>HMT</td>\n",
       "      <td>3973.50</td>\n",
       "      <td>NaN</td>\n",
       "    </tr>\n",
       "    <tr>\n",
       "      <th>424</th>\n",
       "      <td>437</td>\n",
       "      <td>Gayatri Projects</td>\n",
       "      <td>3835.73</td>\n",
       "      <td>NaN</td>\n",
       "    </tr>\n",
       "    <tr>\n",
       "      <th>446</th>\n",
       "      <td>459</td>\n",
       "      <td>JP Power Ven.</td>\n",
       "      <td>3597.60</td>\n",
       "      <td>NaN</td>\n",
       "    </tr>\n",
       "    <tr>\n",
       "      <th>451</th>\n",
       "      <td>464</td>\n",
       "      <td>Amber Enterp.</td>\n",
       "      <td>3529.87</td>\n",
       "      <td>NaN</td>\n",
       "    </tr>\n",
       "    <tr>\n",
       "      <th>459</th>\n",
       "      <td>472</td>\n",
       "      <td>Hind.Construct.</td>\n",
       "      <td>3452.57</td>\n",
       "      <td>NaN</td>\n",
       "    </tr>\n",
       "  </tbody>\n",
       "</table>\n",
       "</div>"
      ],
      "text/plain": [
       "     S.No.              Name  Mar Cap - Crore  Sales Qtr - Crore\n",
       "49      50     Bharti Infra.         61776.92                NaN\n",
       "171    176  Info Edg.(India)         14845.05                NaN\n",
       "185    192     Max Financial         13401.76                NaN\n",
       "224    231     Bombay Burmah         10864.53                NaN\n",
       "241    248  Sundaram Clayton         10074.36                NaN\n",
       "258    271      Mahindra CIE          8587.04                NaN\n",
       "314    327      Prism Cement          6176.23                NaN\n",
       "332    345          GE Power          5497.40                NaN\n",
       "338    351              MMTC          5300.00                NaN\n",
       "370    383       Swan Energy          4721.49                NaN\n",
       "374    387      Shoppers St.          4558.06                NaN\n",
       "379    392   Stand.Chart.PLC          4487.31                NaN\n",
       "396    409        Jindal Saw          4278.31                NaN\n",
       "398    411       Linde India          4198.33                NaN\n",
       "409    422     JP Associates          4074.37                NaN\n",
       "418    431               HMT          3973.50                NaN\n",
       "424    437  Gayatri Projects          3835.73                NaN\n",
       "446    459     JP Power Ven.          3597.60                NaN\n",
       "451    464     Amber Enterp.          3529.87                NaN\n",
       "459    472   Hind.Construct.          3452.57                NaN"
      ]
     },
     "execution_count": 18,
     "metadata": {},
     "output_type": "execute_result"
    }
   ],
   "source": [
    "fi[fi['Sales Qtr - Crore'].isnull()]"
   ]
  },
  {
   "cell_type": "code",
   "execution_count": 19,
   "metadata": {},
   "outputs": [
    {
     "data": {
      "image/png": "[encoded data removed]",
      "text/plain": [
       "<Figure size 640x480 with 1 Axes>"
      ]
     },
     "metadata": {},
     "output_type": "display_data"
    }
   ],
   "source": [
    "plt.plot(fi[\"Mar Cap - Crore\"],fi[\"Sales Qtr - Crore\"])\n",
    "plt.xlabel(\"mar cap\")\n",
    "plt.ylabel(\"quarter sales\")\n",
    "plt.show()"
   ]
  },
  {
   "cell_type": "code",
   "execution_count": 20,
   "metadata": {},
   "outputs": [
    {
     "data": {
      "image/png": "[encoded data removed]",
      "text/plain": [
       "<Figure size 640x480 with 1 Axes>"
      ]
     },
     "metadata": {},
     "output_type": "display_data"
    }
   ],
   "source": [
    "plt.plot(fi['Sales Qtr - Crore'],fi[\"Mar Cap - Crore\"])\n",
    "# plt.bar(fi['Sales Qtr - Crore'],fi[\"Mar Cap - Crore\"])\n",
    "plt.show()"
   ]
  },
  {
   "cell_type": "code",
   "execution_count": 21,
   "metadata": {},
   "outputs": [
    {
     "data": {
      "image/png": "[encoded data removed]",
      "text/plain": [
       "<Figure size 640x480 with 1 Axes>"
      ]
     },
     "metadata": {},
     "output_type": "display_data"
    }
   ],
   "source": [
    "x=fi['Sales Qtr - Crore']\n",
    "y=fi[\"Mar Cap - Crore\"]\n",
    "plt.scatter(y,x)\n",
    "plt.show()"
   ]
  },
  {
   "cell_type": "markdown",
   "metadata": {},
   "source": [
    "LARGE CAP"
   ]
  },
  {
   "cell_type": "code",
   "execution_count": 22,
   "metadata": {},
   "outputs": [
    {
     "data": {
      "image/png": "[encoded data removed]",
      "text/plain": [
       "<Figure size 640x480 with 1 Axes>"
      ]
     },
     "metadata": {},
     "output_type": "display_data"
    },
    {
     "name": "stdout",
     "output_type": "stream",
     "text": [
      "(135,)\n",
      "(135,)\n"
     ]
    }
   ],
   "source": [
    "x1=fi['Mar Cap - Crore'][fi['Mar Cap - Crore']>20000]\n",
    "y1=fi['Sales Qtr - Crore'][fi['Mar Cap - Crore']>20000]\n",
    "plt.scatter(x1,y1)\n",
    "plt.xlabel(\"Mar cap\")\n",
    "plt.ylabel(\"quarterly sales\")\n",
    "plt.show()\n",
    "print(y1.shape)\n",
    "print(x1.shape)\n"
   ]
  },
  {
   "cell_type": "markdown",
   "metadata": {},
   "source": [
    "SMALL CAP"
   ]
  },
  {
   "cell_type": "code",
   "execution_count": 23,
   "metadata": {},
   "outputs": [
    {
     "data": {
      "image/png": "[encoded data removed]",
      "text/plain": [
       "<Figure size 640x480 with 1 Axes>"
      ]
     },
     "metadata": {},
     "output_type": "display_data"
    }
   ],
   "source": [
    "x2=fi['Mar Cap - Crore'][fi['Mar Cap - Crore']<5000]\n",
    "y2=fi['Sales Qtr - Crore'][fi['Mar Cap - Crore']<5000]\n",
    "plt.scatter(x2,y2)\n",
    "plt.xlabel(\"Mar cap\")\n",
    "plt.ylabel(\"quarterly sales\")\n",
    "plt.show()"
   ]
  },
  {
   "cell_type": "markdown",
   "metadata": {},
   "source": [
    "MID CAP"
   ]
  },
  {
   "cell_type": "code",
   "execution_count": 24,
   "metadata": {},
   "outputs": [
    {
     "data": {
      "image/png": "[encoded data removed]",
      "text/plain": [
       "<Figure size 640x480 with 1 Axes>"
      ]
     },
     "metadata": {},
     "output_type": "display_data"
    }
   ],
   "source": [
    "x3=fi['Mar Cap - Crore'][(fi['Mar Cap - Crore']>5000)&(fi['Mar Cap - Crore']<20000)]\n",
    "y3=fi['Sales Qtr - Crore'][(fi['Mar Cap - Crore']>5000)&(fi['Mar Cap - Crore']<20000)]\n",
    "plt.scatter(x3,y3)\n",
    "plt.xlabel(\"Mar cap\")\n",
    "plt.ylabel(\"quarterly sales\")\n",
    "plt.show()\n"
   ]
  },
  {
   "cell_type": "code",
   "execution_count": 25,
   "metadata": {},
   "outputs": [
    {
     "data": {
      "image/png": "[encoded data removed]",
      "text/plain": [
       "<Figure size 640x480 with 1 Axes>"
      ]
     },
     "metadata": {},
     "output_type": "display_data"
    }
   ],
   "source": [
    "a=fi['Mar Cap - Crore'][(fi['Mar Cap - Crore']>20000)&(fi['Mar Cap - Crore']<100000)]\n",
    "b=fi['Sales Qtr - Crore'][(fi['Mar Cap - Crore']>20000)&(fi['Mar Cap - Crore']<100000)]\n",
    "plt.scatter(a,b)\n",
    "plt.show()"
   ]
  },
  {
   "cell_type": "code",
   "execution_count": 26,
   "metadata": {},
   "outputs": [
    {
     "data": {
      "text/plain": [
       "{'whiskers': [<matplotlib.lines.Line2D at 0x1e2164ac190>,\n",
       "  <matplotlib.lines.Line2D at 0x1e2164ae620>],\n",
       " 'caps': [<matplotlib.lines.Line2D at 0x1e2164af970>,\n",
       "  <matplotlib.lines.Line2D at 0x1e2164aee90>],\n",
       " 'boxes': [<matplotlib.lines.Line2D at 0x1e2164aed10>],\n",
       " 'medians': [<matplotlib.lines.Line2D at 0x1e2164aecb0>],\n",
       " 'fliers': [<matplotlib.lines.Line2D at 0x1e2164ae5c0>],\n",
       " 'means': []}"
      ]
     },
     "execution_count": 26,
     "metadata": {},
     "output_type": "execute_result"
    },
    {
     "data": {
      "image/png": "[encoded data removed]",
      "text/plain": [
       "<Figure size 640x480 with 1 Axes>"
      ]
     },
     "metadata": {},
     "output_type": "display_data"
    }
   ],
   "source": [
    "plt.boxplot(a)\n",
    "\n"
   ]
  },
  {
   "cell_type": "code",
   "execution_count": 27,
   "metadata": {},
   "outputs": [
    {
     "data": {
      "text/plain": [
       "{'whiskers': [<matplotlib.lines.Line2D at 0x1e2164657b0>,\n",
       "  <matplotlib.lines.Line2D at 0x1e21648b760>],\n",
       " 'caps': [<matplotlib.lines.Line2D at 0x1e2165492a0>,\n",
       "  <matplotlib.lines.Line2D at 0x1e216548f10>],\n",
       " 'boxes': [<matplotlib.lines.Line2D at 0x1e21654b7c0>],\n",
       " 'medians': [<matplotlib.lines.Line2D at 0x1e216548250>],\n",
       " 'fliers': [<matplotlib.lines.Line2D at 0x1e216549a20>],\n",
       " 'means': []}"
      ]
     },
     "execution_count": 27,
     "metadata": {},
     "output_type": "execute_result"
    },
    {
     "data": {
      "image/png": "[encoded data removed]",
      "text/plain": [
       "<Figure size 640x480 with 1 Axes>"
      ]
     },
     "metadata": {},
     "output_type": "display_data"
    }
   ],
   "source": [
    "plt.boxplot(x1)"
   ]
  },
  {
   "cell_type": "code",
   "execution_count": 28,
   "metadata": {},
   "outputs": [
    {
     "data": {
      "image/png": "[encoded data removed]",
      "text/plain": [
       "<Figure size 640x480 with 1 Axes>"
      ]
     },
     "metadata": {},
     "output_type": "display_data"
    }
   ],
   "source": [
    "plt.boxplot(x2)\n",
    "plt.show()"
   ]
  },
  {
   "cell_type": "code",
   "execution_count": 29,
   "metadata": {},
   "outputs": [
    {
     "data": {
      "image/png": "[encoded data removed]",
      "text/plain": [
       "<Figure size 640x480 with 1 Axes>"
      ]
     },
     "metadata": {},
     "output_type": "display_data"
    }
   ],
   "source": [
    "plt.boxplot(x3)\n",
    "plt.show()"
   ]
  },
  {
   "cell_type": "code",
   "execution_count": 30,
   "metadata": {},
   "outputs": [
    {
     "data": {
      "text/plain": [
       "0        Reliance Inds.\n",
       "1                   TCS\n",
       "2             HDFC Bank\n",
       "3                   ITC\n",
       "4               H D F C\n",
       "             ...       \n",
       "131    Cholaman.Inv.&Fn\n",
       "132    Indraprastha Gas\n",
       "133             M R P L\n",
       "134    Glaxosmi. Pharma\n",
       "135         PNB Housing\n",
       "Name: Name, Length: 135, dtype: object"
      ]
     },
     "execution_count": 30,
     "metadata": {},
     "output_type": "execute_result"
    }
   ],
   "source": [
    "fi['Name'][fi['Mar Cap - Crore']>20000]"
   ]
  },
  {
   "cell_type": "code",
   "execution_count": 31,
   "metadata": {},
   "outputs": [
    {
     "data": {
      "text/plain": [
       "357    Jagran Prakashan\n",
       "358      Elgi Equipment\n",
       "359     JK Lakshmi Cem.\n",
       "360      Zydus Wellness\n",
       "361    Equitas Holdings\n",
       "             ...       \n",
       "482         Prime Focus\n",
       "483     Lak. Vilas Bank\n",
       "484               NOCIL\n",
       "485       Orient Cement\n",
       "486     Natl.Fertilizer\n",
       "Name: Name, Length: 128, dtype: object"
      ]
     },
     "execution_count": 31,
     "metadata": {},
     "output_type": "execute_result"
    }
   ],
   "source": [
    "fi['Name'][fi['Mar Cap - Crore']<5000]"
   ]
  },
  {
   "cell_type": "code",
   "execution_count": 32,
   "metadata": {},
   "outputs": [
    {
     "data": {
      "text/plain": [
       "136            RBL Bank\n",
       "137       Castrol India\n",
       "138         Canara Bank\n",
       "139        GRUH Finance\n",
       "140               KIOCL\n",
       "             ...       \n",
       "352            DCB Bank\n",
       "353         Star Cement\n",
       "354     Netwrk.18 Media\n",
       "355    Gulf Oil Lubric.\n",
       "356            UCO Bank\n",
       "Name: Name, Length: 216, dtype: object"
      ]
     },
     "execution_count": 32,
     "metadata": {},
     "output_type": "execute_result"
    }
   ],
   "source": [
    "fi['Name'][(fi['Mar Cap - Crore']>5000) & (fi['Mar Cap - Crore']<20000)]"
   ]
  },
  {
   "cell_type": "code",
   "execution_count": 33,
   "metadata": {},
   "outputs": [
    {
     "data": {
      "text/plain": [
       "S.No.                 0\n",
       "Name                  0\n",
       "Mar Cap - Crore       0\n",
       "Sales Qtr - Crore    20\n",
       "dtype: int64"
      ]
     },
     "execution_count": 33,
     "metadata": {},
     "output_type": "execute_result"
    }
   ],
   "source": [
    "fi.isnull().sum()\n"
   ]
  },
  {
   "cell_type": "code",
   "execution_count": 34,
   "metadata": {},
   "outputs": [
    {
     "name": "stderr",
     "output_type": "stream",
     "text": [
      "C:\\Users\\Asus\\AppData\\Local\\Temp\\ipykernel_4964\\73187742.py:1: UserWarning: Boolean Series key will be reindexed to match DataFrame index.\n",
      "  fi[fi['Sales Qtr - Crore'].isnull()][((fi['Mar Cap - Crore']>5000)&(fi['Mar Cap - Crore']<20000))]\n"
     ]
    },
    {
     "data": {
      "text/html": [
       "<div>\n",
       "<style scoped>\n",
       "    .dataframe tbody tr th:only-of-type {\n",
       "        vertical-align: middle;\n",
       "    }\n",
       "\n",
       "    .dataframe tbody tr th {\n",
       "        vertical-align: top;\n",
       "    }\n",
       "\n",
       "    .dataframe thead th {\n",
       "        text-align: right;\n",
       "    }\n",
       "</style>\n",
       "<table border=\"1\" class=\"dataframe\">\n",
       "  <thead>\n",
       "    <tr style=\"text-align: right;\">\n",
       "      <th></th>\n",
       "      <th>S.No.</th>\n",
       "      <th>Name</th>\n",
       "      <th>Mar Cap - Crore</th>\n",
       "      <th>Sales Qtr - Crore</th>\n",
       "    </tr>\n",
       "  </thead>\n",
       "  <tbody>\n",
       "    <tr>\n",
       "      <th>171</th>\n",
       "      <td>176</td>\n",
       "      <td>Info Edg.(India)</td>\n",
       "      <td>14845.05</td>\n",
       "      <td>NaN</td>\n",
       "    </tr>\n",
       "    <tr>\n",
       "      <th>185</th>\n",
       "      <td>192</td>\n",
       "      <td>Max Financial</td>\n",
       "      <td>13401.76</td>\n",
       "      <td>NaN</td>\n",
       "    </tr>\n",
       "    <tr>\n",
       "      <th>224</th>\n",
       "      <td>231</td>\n",
       "      <td>Bombay Burmah</td>\n",
       "      <td>10864.53</td>\n",
       "      <td>NaN</td>\n",
       "    </tr>\n",
       "    <tr>\n",
       "      <th>241</th>\n",
       "      <td>248</td>\n",
       "      <td>Sundaram Clayton</td>\n",
       "      <td>10074.36</td>\n",
       "      <td>NaN</td>\n",
       "    </tr>\n",
       "    <tr>\n",
       "      <th>258</th>\n",
       "      <td>271</td>\n",
       "      <td>Mahindra CIE</td>\n",
       "      <td>8587.04</td>\n",
       "      <td>NaN</td>\n",
       "    </tr>\n",
       "    <tr>\n",
       "      <th>314</th>\n",
       "      <td>327</td>\n",
       "      <td>Prism Cement</td>\n",
       "      <td>6176.23</td>\n",
       "      <td>NaN</td>\n",
       "    </tr>\n",
       "    <tr>\n",
       "      <th>332</th>\n",
       "      <td>345</td>\n",
       "      <td>GE Power</td>\n",
       "      <td>5497.40</td>\n",
       "      <td>NaN</td>\n",
       "    </tr>\n",
       "    <tr>\n",
       "      <th>338</th>\n",
       "      <td>351</td>\n",
       "      <td>MMTC</td>\n",
       "      <td>5300.00</td>\n",
       "      <td>NaN</td>\n",
       "    </tr>\n",
       "  </tbody>\n",
       "</table>\n",
       "</div>"
      ],
      "text/plain": [
       "     S.No.              Name  Mar Cap - Crore  Sales Qtr - Crore\n",
       "171    176  Info Edg.(India)         14845.05                NaN\n",
       "185    192     Max Financial         13401.76                NaN\n",
       "224    231     Bombay Burmah         10864.53                NaN\n",
       "241    248  Sundaram Clayton         10074.36                NaN\n",
       "258    271      Mahindra CIE          8587.04                NaN\n",
       "314    327      Prism Cement          6176.23                NaN\n",
       "332    345          GE Power          5497.40                NaN\n",
       "338    351              MMTC          5300.00                NaN"
      ]
     },
     "execution_count": 34,
     "metadata": {},
     "output_type": "execute_result"
    }
   ],
   "source": [
    "fi[fi['Sales Qtr - Crore'].isnull()][((fi['Mar Cap - Crore']>5000)&(fi['Mar Cap - Crore']<20000))]"
   ]
  },
  {
   "cell_type": "code",
   "execution_count": 35,
   "metadata": {},
   "outputs": [
    {
     "name": "stderr",
     "output_type": "stream",
     "text": [
      "C:\\Users\\Asus\\AppData\\Local\\Temp\\ipykernel_4964\\3639129362.py:2: UserWarning: Boolean Series key will be reindexed to match DataFrame index.\n",
      "  fi[fi['Sales Qtr - Crore'].isnull()][((fi['Mar Cap - Crore']>5000)&(fi['Mar Cap - Crore']<20000))]\n"
     ]
    },
    {
     "data": {
      "text/html": [
       "<div>\n",
       "<style scoped>\n",
       "    .dataframe tbody tr th:only-of-type {\n",
       "        vertical-align: middle;\n",
       "    }\n",
       "\n",
       "    .dataframe tbody tr th {\n",
       "        vertical-align: top;\n",
       "    }\n",
       "\n",
       "    .dataframe thead th {\n",
       "        text-align: right;\n",
       "    }\n",
       "</style>\n",
       "<table border=\"1\" class=\"dataframe\">\n",
       "  <thead>\n",
       "    <tr style=\"text-align: right;\">\n",
       "      <th></th>\n",
       "      <th>S.No.</th>\n",
       "      <th>Name</th>\n",
       "      <th>Mar Cap - Crore</th>\n",
       "      <th>Sales Qtr - Crore</th>\n",
       "    </tr>\n",
       "  </thead>\n",
       "  <tbody>\n",
       "  </tbody>\n",
       "</table>\n",
       "</div>"
      ],
      "text/plain": [
       "Empty DataFrame\n",
       "Columns: [S.No., Name, Mar Cap - Crore, Sales Qtr - Crore]\n",
       "Index: []"
      ]
     },
     "execution_count": 35,
     "metadata": {},
     "output_type": "execute_result"
    }
   ],
   "source": [
    "fi.loc[171:339,'Sales Qtr - Crore']=fi.loc[171:339,'Sales Qtr - Crore'].fillna(y3.mean())\n",
    "fi[fi['Sales Qtr - Crore'].isnull()][((fi['Mar Cap - Crore']>5000)&(fi['Mar Cap - Crore']<20000))]"
   ]
  },
  {
   "cell_type": "code",
   "execution_count": 36,
   "metadata": {},
   "outputs": [
    {
     "data": {
      "text/plain": [
       "136     1150.79\n",
       "137      970.30\n",
       "138    10774.64\n",
       "139      428.47\n",
       "140      442.81\n",
       "         ...   \n",
       "352      610.78\n",
       "353      377.43\n",
       "354      366.02\n",
       "355      355.95\n",
       "356     3449.55\n",
       "Name: Sales Qtr - Crore, Length: 216, dtype: float64"
      ]
     },
     "execution_count": 36,
     "metadata": {},
     "output_type": "execute_result"
    }
   ],
   "source": [
    "fi['Sales Qtr - Crore'][((fi['Mar Cap - Crore']>5000)&(fi['Mar Cap - Crore']<20000))]"
   ]
  },
  {
   "cell_type": "code",
   "execution_count": 37,
   "metadata": {},
   "outputs": [
    {
     "data": {
      "text/html": [
       "<div>\n",
       "<style scoped>\n",
       "    .dataframe tbody tr th:only-of-type {\n",
       "        vertical-align: middle;\n",
       "    }\n",
       "\n",
       "    .dataframe tbody tr th {\n",
       "        vertical-align: top;\n",
       "    }\n",
       "\n",
       "    .dataframe thead th {\n",
       "        text-align: right;\n",
       "    }\n",
       "</style>\n",
       "<table border=\"1\" class=\"dataframe\">\n",
       "  <thead>\n",
       "    <tr style=\"text-align: right;\">\n",
       "      <th></th>\n",
       "      <th>S.No.</th>\n",
       "      <th>Name</th>\n",
       "      <th>Mar Cap - Crore</th>\n",
       "      <th>Sales Qtr - Crore</th>\n",
       "    </tr>\n",
       "  </thead>\n",
       "  <tbody>\n",
       "    <tr>\n",
       "      <th>171</th>\n",
       "      <td>176</td>\n",
       "      <td>Info Edg.(India)</td>\n",
       "      <td>14845.05</td>\n",
       "      <td>1508.121106</td>\n",
       "    </tr>\n",
       "  </tbody>\n",
       "</table>\n",
       "</div>"
      ],
      "text/plain": [
       "     S.No.              Name  Mar Cap - Crore  Sales Qtr - Crore\n",
       "171    176  Info Edg.(India)         14845.05        1508.121106"
      ]
     },
     "execution_count": 37,
     "metadata": {},
     "output_type": "execute_result"
    }
   ],
   "source": [
    "fi[fi['S.No.']==176]"
   ]
  },
  {
   "cell_type": "code",
   "execution_count": 38,
   "metadata": {},
   "outputs": [
    {
     "name": "stderr",
     "output_type": "stream",
     "text": [
      "C:\\Users\\Asus\\AppData\\Local\\Temp\\ipykernel_4964\\843592999.py:1: UserWarning: Boolean Series key will be reindexed to match DataFrame index.\n",
      "  fi[fi['Sales Qtr - Crore'].isnull()][fi['Mar Cap - Crore']<5000]\n"
     ]
    },
    {
     "data": {
      "text/html": [
       "<div>\n",
       "<style scoped>\n",
       "    .dataframe tbody tr th:only-of-type {\n",
       "        vertical-align: middle;\n",
       "    }\n",
       "\n",
       "    .dataframe tbody tr th {\n",
       "        vertical-align: top;\n",
       "    }\n",
       "\n",
       "    .dataframe thead th {\n",
       "        text-align: right;\n",
       "    }\n",
       "</style>\n",
       "<table border=\"1\" class=\"dataframe\">\n",
       "  <thead>\n",
       "    <tr style=\"text-align: right;\">\n",
       "      <th></th>\n",
       "      <th>S.No.</th>\n",
       "      <th>Name</th>\n",
       "      <th>Mar Cap - Crore</th>\n",
       "      <th>Sales Qtr - Crore</th>\n",
       "    </tr>\n",
       "  </thead>\n",
       "  <tbody>\n",
       "    <tr>\n",
       "      <th>370</th>\n",
       "      <td>383</td>\n",
       "      <td>Swan Energy</td>\n",
       "      <td>4721.49</td>\n",
       "      <td>NaN</td>\n",
       "    </tr>\n",
       "    <tr>\n",
       "      <th>374</th>\n",
       "      <td>387</td>\n",
       "      <td>Shoppers St.</td>\n",
       "      <td>4558.06</td>\n",
       "      <td>NaN</td>\n",
       "    </tr>\n",
       "    <tr>\n",
       "      <th>379</th>\n",
       "      <td>392</td>\n",
       "      <td>Stand.Chart.PLC</td>\n",
       "      <td>4487.31</td>\n",
       "      <td>NaN</td>\n",
       "    </tr>\n",
       "    <tr>\n",
       "      <th>396</th>\n",
       "      <td>409</td>\n",
       "      <td>Jindal Saw</td>\n",
       "      <td>4278.31</td>\n",
       "      <td>NaN</td>\n",
       "    </tr>\n",
       "    <tr>\n",
       "      <th>398</th>\n",
       "      <td>411</td>\n",
       "      <td>Linde India</td>\n",
       "      <td>4198.33</td>\n",
       "      <td>NaN</td>\n",
       "    </tr>\n",
       "    <tr>\n",
       "      <th>409</th>\n",
       "      <td>422</td>\n",
       "      <td>JP Associates</td>\n",
       "      <td>4074.37</td>\n",
       "      <td>NaN</td>\n",
       "    </tr>\n",
       "    <tr>\n",
       "      <th>418</th>\n",
       "      <td>431</td>\n",
       "      <td>HMT</td>\n",
       "      <td>3973.50</td>\n",
       "      <td>NaN</td>\n",
       "    </tr>\n",
       "    <tr>\n",
       "      <th>424</th>\n",
       "      <td>437</td>\n",
       "      <td>Gayatri Projects</td>\n",
       "      <td>3835.73</td>\n",
       "      <td>NaN</td>\n",
       "    </tr>\n",
       "    <tr>\n",
       "      <th>446</th>\n",
       "      <td>459</td>\n",
       "      <td>JP Power Ven.</td>\n",
       "      <td>3597.60</td>\n",
       "      <td>NaN</td>\n",
       "    </tr>\n",
       "    <tr>\n",
       "      <th>451</th>\n",
       "      <td>464</td>\n",
       "      <td>Amber Enterp.</td>\n",
       "      <td>3529.87</td>\n",
       "      <td>NaN</td>\n",
       "    </tr>\n",
       "    <tr>\n",
       "      <th>459</th>\n",
       "      <td>472</td>\n",
       "      <td>Hind.Construct.</td>\n",
       "      <td>3452.57</td>\n",
       "      <td>NaN</td>\n",
       "    </tr>\n",
       "  </tbody>\n",
       "</table>\n",
       "</div>"
      ],
      "text/plain": [
       "     S.No.              Name  Mar Cap - Crore  Sales Qtr - Crore\n",
       "370    383       Swan Energy          4721.49                NaN\n",
       "374    387      Shoppers St.          4558.06                NaN\n",
       "379    392   Stand.Chart.PLC          4487.31                NaN\n",
       "396    409        Jindal Saw          4278.31                NaN\n",
       "398    411       Linde India          4198.33                NaN\n",
       "409    422     JP Associates          4074.37                NaN\n",
       "418    431               HMT          3973.50                NaN\n",
       "424    437  Gayatri Projects          3835.73                NaN\n",
       "446    459     JP Power Ven.          3597.60                NaN\n",
       "451    464     Amber Enterp.          3529.87                NaN\n",
       "459    472   Hind.Construct.          3452.57                NaN"
      ]
     },
     "execution_count": 38,
     "metadata": {},
     "output_type": "execute_result"
    }
   ],
   "source": [
    "fi[fi['Sales Qtr - Crore'].isnull()][fi['Mar Cap - Crore']<5000]"
   ]
  },
  {
   "cell_type": "code",
   "execution_count": 39,
   "metadata": {},
   "outputs": [
    {
     "data": {
      "text/plain": [
       "S.No.                0\n",
       "Name                 0\n",
       "Mar Cap - Crore      0\n",
       "Sales Qtr - Crore    1\n",
       "dtype: int64"
      ]
     },
     "execution_count": 39,
     "metadata": {},
     "output_type": "execute_result"
    }
   ],
   "source": [
    "fi.loc[370:460,'Sales Qtr - Crore']=fi.loc[370:460,'Sales Qtr - Crore'].fillna(y2.mean())\n",
    "fi.isnull().sum()"
   ]
  },
  {
   "cell_type": "code",
   "execution_count": 40,
   "metadata": {},
   "outputs": [
    {
     "name": "stderr",
     "output_type": "stream",
     "text": [
      "C:\\Users\\Asus\\AppData\\Local\\Temp\\ipykernel_4964\\2379266758.py:1: UserWarning: Boolean Series key will be reindexed to match DataFrame index.\n",
      "  fi[fi['Sales Qtr - Crore'].isnull()][fi['Mar Cap - Crore']>20000]\n"
     ]
    },
    {
     "data": {
      "text/html": [
       "<div>\n",
       "<style scoped>\n",
       "    .dataframe tbody tr th:only-of-type {\n",
       "        vertical-align: middle;\n",
       "    }\n",
       "\n",
       "    .dataframe tbody tr th {\n",
       "        vertical-align: top;\n",
       "    }\n",
       "\n",
       "    .dataframe thead th {\n",
       "        text-align: right;\n",
       "    }\n",
       "</style>\n",
       "<table border=\"1\" class=\"dataframe\">\n",
       "  <thead>\n",
       "    <tr style=\"text-align: right;\">\n",
       "      <th></th>\n",
       "      <th>S.No.</th>\n",
       "      <th>Name</th>\n",
       "      <th>Mar Cap - Crore</th>\n",
       "      <th>Sales Qtr - Crore</th>\n",
       "    </tr>\n",
       "  </thead>\n",
       "  <tbody>\n",
       "    <tr>\n",
       "      <th>49</th>\n",
       "      <td>50</td>\n",
       "      <td>Bharti Infra.</td>\n",
       "      <td>61776.92</td>\n",
       "      <td>NaN</td>\n",
       "    </tr>\n",
       "  </tbody>\n",
       "</table>\n",
       "</div>"
      ],
      "text/plain": [
       "    S.No.           Name  Mar Cap - Crore  Sales Qtr - Crore\n",
       "49     50  Bharti Infra.         61776.92                NaN"
      ]
     },
     "execution_count": 40,
     "metadata": {},
     "output_type": "execute_result"
    }
   ],
   "source": [
    "fi[fi['Sales Qtr - Crore'].isnull()][fi['Mar Cap - Crore']>20000]"
   ]
  },
  {
   "cell_type": "code",
   "execution_count": 41,
   "metadata": {},
   "outputs": [
    {
     "data": {
      "text/plain": [
       "S.No.                0\n",
       "Name                 0\n",
       "Mar Cap - Crore      0\n",
       "Sales Qtr - Crore    0\n",
       "dtype: int64"
      ]
     },
     "execution_count": 41,
     "metadata": {},
     "output_type": "execute_result"
    }
   ],
   "source": [
    "fi[fi['S.No.']==50]=fi[fi['S.No.']==50].fillna(y1.mean())\n",
    "fi.isnull().sum()"
   ]
  },
  {
   "cell_type": "code",
   "execution_count": 42,
   "metadata": {},
   "outputs": [
    {
     "data": {
      "image/png": "[encoded data removed]",
      "text/plain": [
       "<Figure size 640x480 with 1 Axes>"
      ]
     },
     "metadata": {},
     "output_type": "display_data"
    }
   ],
   "source": [
    "x2=fi['Mar Cap - Crore'][fi['Mar Cap - Crore']<5000]\n",
    "y2=fi['Sales Qtr - Crore'][fi['Mar Cap - Crore']<5000]\n",
    "plt.scatter(x2,y2)\n",
    "plt.xlabel(\"Mar cap\")\n",
    "plt.ylabel(\"quarterly sales\")\n",
    "plt.show()"
   ]
  },
  {
   "cell_type": "code",
   "execution_count": 43,
   "metadata": {},
   "outputs": [],
   "source": [
    "from sklearn.model_selection import train_test_split\n",
    "from sklearn.linear_model import LinearRegression\n",
    "from sklearn.metrics import mean_squared_error, r2_score"
   ]
  },
  {
   "cell_type": "code",
   "execution_count": 44,
   "metadata": {},
   "outputs": [],
   "source": [
    "x=np.reshape(np.array(fi['Mar Cap - Crore']),(-1,1))\n",
    "y=np.reshape(np.array(fi['Sales Qtr - Crore']),(-1,1))"
   ]
  },
  {
   "cell_type": "code",
   "execution_count": 45,
   "metadata": {},
   "outputs": [
    {
     "data": {
      "text/html": [
       "<style>#sk-container-id-1 {color: black;background-color: white;}#sk-container-id-1 pre{padding: 0;}#sk-container-id-1 div.sk-toggleable {background-color: white;}#sk-container-id-1 label.sk-toggleable__label {cursor: pointer;display: block;width: 100%;margin-bottom: 0;padding: 0.3em;box-sizing: border-box;text-align: center;}#sk-container-id-1 label.sk-toggleable__label-arrow:before {content: \"▸\";float: left;margin-right: 0.25em;color: #696969;}#sk-container-id-1 label.sk-toggleable__label-arrow:hover:before {color: black;}#sk-container-id-1 div.sk-estimator:hover label.sk-toggleable__label-arrow:before {color: black;}#sk-container-id-1 div.sk-toggleable__content {max-height: 0;max-width: 0;overflow: hidden;text-align: left;background-color: #f0f8ff;}#sk-container-id-1 div.sk-toggleable__content pre {margin: 0.2em;color: black;border-radius: 0.25em;background-color: #f0f8ff;}#sk-container-id-1 input.sk-toggleable__control:checked~div.sk-toggleable__content {max-height: 200px;max-width: 100%;overflow: auto;}#sk-container-id-1 input.sk-toggleable__control:checked~label.sk-toggleable__label-arrow:before {content: \"▾\";}#sk-container-id-1 div.sk-estimator input.sk-toggleable__control:checked~label.sk-toggleable__label {background-color: #d4ebff;}#sk-container-id-1 div.sk-label input.sk-toggleable__control:checked~label.sk-toggleable__label {background-color: #d4ebff;}#sk-container-id-1 input.sk-hidden--visually {border: 0;clip: rect(1px 1px 1px 1px);clip: rect(1px, 1px, 1px, 1px);height: 1px;margin: -1px;overflow: hidden;padding: 0;position: absolute;width: 1px;}#sk-container-id-1 div.sk-estimator {font-family: monospace;background-color: #f0f8ff;border: 1px dotted black;border-radius: 0.25em;box-sizing: border-box;margin-bottom: 0.5em;}#sk-container-id-1 div.sk-estimator:hover {background-color: #d4ebff;}#sk-container-id-1 div.sk-parallel-item::after {content: \"\";width: 100%;border-bottom: 1px solid gray;flex-grow: 1;}#sk-container-id-1 div.sk-label:hover label.sk-toggleable__label {background-color: #d4ebff;}#sk-container-id-1 div.sk-serial::before {content: \"\";position: absolute;border-left: 1px solid gray;box-sizing: border-box;top: 0;bottom: 0;left: 50%;z-index: 0;}#sk-container-id-1 div.sk-serial {display: flex;flex-direction: column;align-items: center;background-color: white;padding-right: 0.2em;padding-left: 0.2em;position: relative;}#sk-container-id-1 div.sk-item {position: relative;z-index: 1;}#sk-container-id-1 div.sk-parallel {display: flex;align-items: stretch;justify-content: center;background-color: white;position: relative;}#sk-container-id-1 div.sk-item::before, #sk-container-id-1 div.sk-parallel-item::before {content: \"\";position: absolute;border-left: 1px solid gray;box-sizing: border-box;top: 0;bottom: 0;left: 50%;z-index: -1;}#sk-container-id-1 div.sk-parallel-item {display: flex;flex-direction: column;z-index: 1;position: relative;background-color: white;}#sk-container-id-1 div.sk-parallel-item:first-child::after {align-self: flex-end;width: 50%;}#sk-container-id-1 div.sk-parallel-item:last-child::after {align-self: flex-start;width: 50%;}#sk-container-id-1 div.sk-parallel-item:only-child::after {width: 0;}#sk-container-id-1 div.sk-dashed-wrapped {border: 1px dashed gray;margin: 0 0.4em 0.5em 0.4em;box-sizing: border-box;padding-bottom: 0.4em;background-color: white;}#sk-container-id-1 div.sk-label label {font-family: monospace;font-weight: bold;display: inline-block;line-height: 1.2em;}#sk-container-id-1 div.sk-label-container {text-align: center;}#sk-container-id-1 div.sk-container {/* jupyter's `normalize.less` sets `[hidden] { display: none; }` but bootstrap.min.css set `[hidden] { display: none !important; }` so we also need the `!important` here to be able to override the default hidden behavior on the sphinx rendered scikit-learn.org. See: https://github.com/scikit-learn/scikit-learn/issues/21755 */display: inline-block !important;position: relative;}#sk-container-id-1 div.sk-text-repr-fallback {display: none;}</style><div id=\"sk-container-id-1\" class=\"sk-top-container\"><div class=\"sk-text-repr-fallback\"><pre>LinearRegression()</pre><b>In a Jupyter environment, please rerun this cell to show the HTML representation or trust the notebook. <br />On GitHub, the HTML representation is unable to render, please try loading this page with nbviewer.org.</b></div><div class=\"sk-container\" hidden><div class=\"sk-item\"><div class=\"sk-estimator sk-toggleable\"><input class=\"sk-toggleable__control sk-hidden--visually\" id=\"sk-estimator-id-1\" type=\"checkbox\" checked><label for=\"sk-estimator-id-1\" class=\"sk-toggleable__label sk-toggleable__label-arrow\">LinearRegression</label><div class=\"sk-toggleable__content\"><pre>LinearRegression()</pre></div></div></div></div></div>"
      ],
      "text/plain": [
       "LinearRegression()"
      ]
     },
     "execution_count": 45,
     "metadata": {},
     "output_type": "execute_result"
    }
   ],
   "source": [
    "x_train, x_test, y_train, y_test = train_test_split(x, y, test_size=0.2, random_state=42)\n",
    "\n",
    "# Train linear regression model\n",
    "model = LinearRegression()\n",
    "model.fit(x_train, y_train)\n",
    "\n",
    "\n"
   ]
  },
  {
   "cell_type": "code",
   "execution_count": 46,
   "metadata": {},
   "outputs": [
    {
     "name": "stdout",
     "output_type": "stream",
     "text": [
      "Mean Squared Error: 47399588.10322481\n",
      "R^2 Score: 0.6574020705224801\n"
     ]
    }
   ],
   "source": [
    "# Make predictions\n",
    "y_pred = model.predict(x_test)\n",
    "\n",
    "# Evaluate model\n",
    "mse = mean_squared_error(y_test, y_pred)\n",
    "r2 = r2_score(y_test, y_pred)\n",
    "print(f'Mean Squared Error: {mse}')\n",
    "print(f'R^2 Score: {r2}')\n"
   ]
  },
  {
   "cell_type": "code",
   "execution_count": 47,
   "metadata": {},
   "outputs": [
    {
     "data": {
      "image/png": "[encoded data removed]",
      "text/plain": [
       "<Figure size 640x480 with 1 Axes>"
      ]
     },
     "metadata": {},
     "output_type": "display_data"
    }
   ],
   "source": [
    "# Plot predictions vs. actual values\n",
    "plt.scatter(x_test, y_test, color='black')\n",
    "plt.plot(x_test, y_pred, color='blue', linewidth=3)\n",
    "plt.xlabel('mark cap')\n",
    "plt.ylabel('sales quarterly')\n",
    "plt.title('Linear Regression: Predicted vs. Actual')\n",
    "plt.show()"
   ]
  },
  {
   "cell_type": "code",
   "execution_count": 48,
   "metadata": {},
   "outputs": [],
   "source": [
    "x2=np.reshape(np.array(fi['Mar Cap - Crore'][fi['Mar Cap - Crore']<5000]),(-1,1))\n",
    "y2=np.reshape(np.array(fi['Sales Qtr - Crore'][fi['Mar Cap - Crore']<5000]),(-1,1))\n",
    "\n",
    "x3=np.reshape(np.array(fi['Mar Cap - Crore'][(fi['Mar Cap - Crore']>5000)&(fi['Mar Cap - Crore']<20000)]),(-1,1))\n",
    "y3=np.reshape(np.array(fi['Sales Qtr - Crore'][(fi['Mar Cap - Crore']>5000)&(fi['Mar Cap - Crore']<20000)]),(-1,1))\n",
    "\n",
    "x1=np.reshape(np.array(fi['Mar Cap - Crore'][fi['Mar Cap - Crore']>20000]),(-1,1))\n",
    "y1=np.reshape(np.array(fi['Sales Qtr - Crore'][fi['Mar Cap - Crore']>20000]),(-1,1))"
   ]
  },
  {
   "cell_type": "code",
   "execution_count": 49,
   "metadata": {},
   "outputs": [
    {
     "data": {
      "text/html": [
       "<style>#sk-container-id-2 {color: black;background-color: white;}#sk-container-id-2 pre{padding: 0;}#sk-container-id-2 div.sk-toggleable {background-color: white;}#sk-container-id-2 label.sk-toggleable__label {cursor: pointer;display: block;width: 100%;margin-bottom: 0;padding: 0.3em;box-sizing: border-box;text-align: center;}#sk-container-id-2 label.sk-toggleable__label-arrow:before {content: \"▸\";float: left;margin-right: 0.25em;color: #696969;}#sk-container-id-2 label.sk-toggleable__label-arrow:hover:before {color: black;}#sk-container-id-2 div.sk-estimator:hover label.sk-toggleable__label-arrow:before {color: black;}#sk-container-id-2 div.sk-toggleable__content {max-height: 0;max-width: 0;overflow: hidden;text-align: left;background-color: #f0f8ff;}#sk-container-id-2 div.sk-toggleable__content pre {margin: 0.2em;color: black;border-radius: 0.25em;background-color: #f0f8ff;}#sk-container-id-2 input.sk-toggleable__control:checked~div.sk-toggleable__content {max-height: 200px;max-width: 100%;overflow: auto;}#sk-container-id-2 input.sk-toggleable__control:checked~label.sk-toggleable__label-arrow:before {content: \"▾\";}#sk-container-id-2 div.sk-estimator input.sk-toggleable__control:checked~label.sk-toggleable__label {background-color: #d4ebff;}#sk-container-id-2 div.sk-label input.sk-toggleable__control:checked~label.sk-toggleable__label {background-color: #d4ebff;}#sk-container-id-2 input.sk-hidden--visually {border: 0;clip: rect(1px 1px 1px 1px);clip: rect(1px, 1px, 1px, 1px);height: 1px;margin: -1px;overflow: hidden;padding: 0;position: absolute;width: 1px;}#sk-container-id-2 div.sk-estimator {font-family: monospace;background-color: #f0f8ff;border: 1px dotted black;border-radius: 0.25em;box-sizing: border-box;margin-bottom: 0.5em;}#sk-container-id-2 div.sk-estimator:hover {background-color: #d4ebff;}#sk-container-id-2 div.sk-parallel-item::after {content: \"\";width: 100%;border-bottom: 1px solid gray;flex-grow: 1;}#sk-container-id-2 div.sk-label:hover label.sk-toggleable__label {background-color: #d4ebff;}#sk-container-id-2 div.sk-serial::before {content: \"\";position: absolute;border-left: 1px solid gray;box-sizing: border-box;top: 0;bottom: 0;left: 50%;z-index: 0;}#sk-container-id-2 div.sk-serial {display: flex;flex-direction: column;align-items: center;background-color: white;padding-right: 0.2em;padding-left: 0.2em;position: relative;}#sk-container-id-2 div.sk-item {position: relative;z-index: 1;}#sk-container-id-2 div.sk-parallel {display: flex;align-items: stretch;justify-content: center;background-color: white;position: relative;}#sk-container-id-2 div.sk-item::before, #sk-container-id-2 div.sk-parallel-item::before {content: \"\";position: absolute;border-left: 1px solid gray;box-sizing: border-box;top: 0;bottom: 0;left: 50%;z-index: -1;}#sk-container-id-2 div.sk-parallel-item {display: flex;flex-direction: column;z-index: 1;position: relative;background-color: white;}#sk-container-id-2 div.sk-parallel-item:first-child::after {align-self: flex-end;width: 50%;}#sk-container-id-2 div.sk-parallel-item:last-child::after {align-self: flex-start;width: 50%;}#sk-container-id-2 div.sk-parallel-item:only-child::after {width: 0;}#sk-container-id-2 div.sk-dashed-wrapped {border: 1px dashed gray;margin: 0 0.4em 0.5em 0.4em;box-sizing: border-box;padding-bottom: 0.4em;background-color: white;}#sk-container-id-2 div.sk-label label {font-family: monospace;font-weight: bold;display: inline-block;line-height: 1.2em;}#sk-container-id-2 div.sk-label-container {text-align: center;}#sk-container-id-2 div.sk-container {/* jupyter's `normalize.less` sets `[hidden] { display: none; }` but bootstrap.min.css set `[hidden] { display: none !important; }` so we also need the `!important` here to be able to override the default hidden behavior on the sphinx rendered scikit-learn.org. See: https://github.com/scikit-learn/scikit-learn/issues/21755 */display: inline-block !important;position: relative;}#sk-container-id-2 div.sk-text-repr-fallback {display: none;}</style><div id=\"sk-container-id-2\" class=\"sk-top-container\"><div class=\"sk-text-repr-fallback\"><pre>LinearRegression()</pre><b>In a Jupyter environment, please rerun this cell to show the HTML representation or trust the notebook. <br />On GitHub, the HTML representation is unable to render, please try loading this page with nbviewer.org.</b></div><div class=\"sk-container\" hidden><div class=\"sk-item\"><div class=\"sk-estimator sk-toggleable\"><input class=\"sk-toggleable__control sk-hidden--visually\" id=\"sk-estimator-id-2\" type=\"checkbox\" checked><label for=\"sk-estimator-id-2\" class=\"sk-toggleable__label sk-toggleable__label-arrow\">LinearRegression</label><div class=\"sk-toggleable__content\"><pre>LinearRegression()</pre></div></div></div></div></div>"
      ],
      "text/plain": [
       "LinearRegression()"
      ]
     },
     "execution_count": 49,
     "metadata": {},
     "output_type": "execute_result"
    }
   ],
   "source": [
    "x_train, x_test, y_train, y_test = train_test_split(x3, y3, test_size=0.2, random_state=42)\n",
    "\n",
    "# Train linear regression model\n",
    "model = LinearRegression()\n",
    "model.fit(x_train, y_train)"
   ]
  },
  {
   "cell_type": "code",
   "execution_count": 50,
   "metadata": {},
   "outputs": [
    {
     "name": "stdout",
     "output_type": "stream",
     "text": [
      "Mean Squared Error: 4177790.3678889903\n",
      "R^2 Score: 0.029182044858436007\n"
     ]
    }
   ],
   "source": [
    "y_pred = model.predict(x_test)\n",
    "\n",
    "# Evaluate model\n",
    "mse = mean_squared_error(y_test, y_pred)\n",
    "r2 = r2_score(y_test, y_pred)\n",
    "print(f'Mean Squared Error: {mse}')\n",
    "print(f'R^2 Score: {r2}')\n"
   ]
  },
  {
   "cell_type": "code",
   "execution_count": 51,
   "metadata": {},
   "outputs": [
    {
     "data": {
      "image/png": "[encoded data removed]",
      "text/plain": [
       "<Figure size 640x480 with 1 Axes>"
      ]
     },
     "metadata": {},
     "output_type": "display_data"
    }
   ],
   "source": [
    "plt.scatter(x_test, y_test, color='black')\n",
    "plt.plot(x_test, y_pred, color='blue', linewidth=3)\n",
    "plt.xlabel('mark cap')\n",
    "plt.ylabel('sales quarterly')\n",
    "plt.title('Linear Regression: Predicted vs. Actual')\n",
    "plt.show()"
   ]
  },
  {
   "cell_type": "code",
   "execution_count": 52,
   "metadata": {},
   "outputs": [],
   "source": [
    "x2=fi['Mar Cap - Crore'][fi['Mar Cap - Crore']<5000]\n",
    "y2=fi['Sales Qtr - Crore'][fi['Mar Cap - Crore']<5000]\n",
    "\n",
    "x3=fi['Mar Cap - Crore'][(fi['Mar Cap - Crore']>5000)&(fi['Mar Cap - Crore']<20000)]\n",
    "y3=fi['Sales Qtr - Crore'][(fi['Mar Cap - Crore']>5000)&(fi['Mar Cap - Crore']<20000)]\n",
    "\n",
    "x1=fi['Mar Cap - Crore'][fi['Mar Cap - Crore']>20000]\n",
    "y1=fi['Sales Qtr - Crore'][fi['Mar Cap - Crore']>20000]"
   ]
  },
  {
   "cell_type": "code",
   "execution_count": 53,
   "metadata": {},
   "outputs": [
    {
     "data": {
      "text/plain": [
       "550.985"
      ]
     },
     "execution_count": 53,
     "metadata": {},
     "output_type": "execute_result"
    }
   ],
   "source": [
    "q1=np.percentile(y3,25)\n",
    "q1"
   ]
  },
  {
   "cell_type": "code",
   "execution_count": 54,
   "metadata": {},
   "outputs": [
    {
     "data": {
      "text/plain": [
       "1585.685"
      ]
     },
     "execution_count": 54,
     "metadata": {},
     "output_type": "execute_result"
    }
   ],
   "source": [
    "q3=np.percentile(y3,75)\n",
    "q3"
   ]
  },
  {
   "cell_type": "code",
   "execution_count": 55,
   "metadata": {},
   "outputs": [
    {
     "data": {
      "text/plain": [
       "1034.6999999999998"
      ]
     },
     "execution_count": 55,
     "metadata": {},
     "output_type": "execute_result"
    }
   ],
   "source": [
    "iqr=q3-q1\n",
    "iqr"
   ]
  },
  {
   "cell_type": "code",
   "execution_count": 56,
   "metadata": {},
   "outputs": [],
   "source": [
    "low=q1-1.5*iqr\n",
    "upp=q3+1.5*iqr"
   ]
  },
  {
   "cell_type": "code",
   "execution_count": 57,
   "metadata": {},
   "outputs": [
    {
     "data": {
      "text/plain": [
       "(-1001.0649999999997, 3137.7349999999997)"
      ]
     },
     "execution_count": 57,
     "metadata": {},
     "output_type": "execute_result"
    }
   ],
   "source": [
    "low,upp"
   ]
  },
  {
   "cell_type": "code",
   "execution_count": 58,
   "metadata": {},
   "outputs": [
    {
     "data": {
      "text/plain": [
       "[10774.64,\n",
       " 4114.63,\n",
       " 5797.2,\n",
       " 4354.22,\n",
       " 9334.84,\n",
       " 6026.55,\n",
       " 4844.46,\n",
       " 4749.0,\n",
       " 5861.04,\n",
       " 7769.67,\n",
       " 8260.47,\n",
       " 6086.2,\n",
       " 5375.57,\n",
       " 11728.4,\n",
       " 3557.94,\n",
       " 4254.68,\n",
       " 8587.17,\n",
       " 3449.55]"
      ]
     },
     "execution_count": 58,
     "metadata": {},
     "output_type": "execute_result"
    }
   ],
   "source": [
    "outliers=[]\n",
    "for i in y3:\n",
    "    if (i<low) or (i>upp):\n",
    "        outliers.append(i)\n",
    "outliers"
   ]
  },
  {
   "cell_type": "code",
   "execution_count": 59,
   "metadata": {},
   "outputs": [
    {
     "data": {
      "text/plain": [
       "[1150.79,\n",
       " 970.3,\n",
       " 428.47,\n",
       " 442.81,\n",
       " 1374.67,\n",
       " 2458.48,\n",
       " 958.01,\n",
       " 677.23,\n",
       " 2501.2,\n",
       " 2573.91,\n",
       " 2276.54,\n",
       " 2283.72,\n",
       " 1321.5,\n",
       " 1056.36,\n",
       " 2631.6,\n",
       " 1660.69,\n",
       " 1896.14,\n",
       " 394.0,\n",
       " 1730.39,\n",
       " 627.03,\n",
       " 464.17,\n",
       " 1197.26,\n",
       " 728.63,\n",
       " 1064.49,\n",
       " 356.2,\n",
       " 436.58,\n",
       " 1278.3,\n",
       " 1553.71,\n",
       " 1706.48,\n",
       " 1508.1211057692308,\n",
       " 2203.67,\n",
       " 2067.76,\n",
       " 938.19,\n",
       " 721.48,\n",
       " 562.2,\n",
       " 2644.89,\n",
       " 1583.95,\n",
       " 441.13,\n",
       " 649.91,\n",
       " 1553.46,\n",
       " 835.18,\n",
       " 572.16,\n",
       " 783.51,\n",
       " 1508.1211057692308,\n",
       " 238.43,\n",
       " 2069.39,\n",
       " 795.17,\n",
       " 479.7,\n",
       " 933.06,\n",
       " 1993.2,\n",
       " 1706.0,\n",
       " 1338.09,\n",
       " 969.1,\n",
       " 3050.81,\n",
       " 2754.64,\n",
       " 1942.12,\n",
       " 886.68,\n",
       " 837.73,\n",
       " 2494.65,\n",
       " 387.7,\n",
       " 881.49,\n",
       " 1012.94,\n",
       " 217.63,\n",
       " 1571.33,\n",
       " 1855.0,\n",
       " 587.05,\n",
       " 537.74,\n",
       " 865.36,\n",
       " 329.92,\n",
       " 1377.7,\n",
       " 1272.3,\n",
       " 784.05,\n",
       " 848.13,\n",
       " 667.5,\n",
       " 350.18,\n",
       " 865.77,\n",
       " 656.78,\n",
       " 1508.1211057692308,\n",
       " 1397.06,\n",
       " 1438.55,\n",
       " 840.02,\n",
       " 19.42,\n",
       " 2072.29,\n",
       " 842.71,\n",
       " 521.32,\n",
       " 473.42,\n",
       " 706.43,\n",
       " 456.54,\n",
       " 1205.03,\n",
       " 704.59,\n",
       " 2100.13,\n",
       " 182.21,\n",
       " 2705.75,\n",
       " 1508.1211057692308,\n",
       " 1004.83,\n",
       " 700.49,\n",
       " 162.17,\n",
       " 271.13,\n",
       " 1056.16,\n",
       " 465.68,\n",
       " 661.16,\n",
       " 528.54,\n",
       " 674.0,\n",
       " 416.61,\n",
       " 1278.74,\n",
       " 1783.73,\n",
       " 213.48,\n",
       " 1442.08,\n",
       " 1508.1211057692308,\n",
       " 2081.95,\n",
       " 3005.45,\n",
       " 968.97,\n",
       " 1005.3,\n",
       " 711.99,\n",
       " 2789.58,\n",
       " 1537.72,\n",
       " 640.38,\n",
       " 457.97,\n",
       " 250.97,\n",
       " 1422.32,\n",
       " 1647.98,\n",
       " 1156.61,\n",
       " 859.21,\n",
       " 532.21,\n",
       " 1296.19,\n",
       " 803.68,\n",
       " 722.72,\n",
       " 740.77,\n",
       " 1144.0,\n",
       " 262.7,\n",
       " 859.24,\n",
       " 2780.26,\n",
       " 457.5,\n",
       " 1126.11,\n",
       " 1590.89,\n",
       " 615.04,\n",
       " 1389.32,\n",
       " 1188.97,\n",
       " 509.93,\n",
       " 981.3,\n",
       " 1417.37,\n",
       " 1193.06,\n",
       " 983.3,\n",
       " 440.14,\n",
       " 162.68,\n",
       " 611.59,\n",
       " 392.1,\n",
       " 2153.34,\n",
       " 361.68,\n",
       " 987.64,\n",
       " 542.42,\n",
       " 500.08,\n",
       " 965.3,\n",
       " 557.25,\n",
       " 2330.1,\n",
       " 3135.23,\n",
       " 1397.95,\n",
       " 1574.15,\n",
       " 749.04,\n",
       " 553.84,\n",
       " 431.21,\n",
       " 377.4,\n",
       " 1508.1211057692308,\n",
       " 345.54,\n",
       " 598.58,\n",
       " 1889.63,\n",
       " 791.89,\n",
       " 201.5,\n",
       " 1484.24,\n",
       " 299.8,\n",
       " 619.93,\n",
       " 584.42,\n",
       " 365.42,\n",
       " 826.95,\n",
       " 473.77,\n",
       " 617.61,\n",
       " 1508.1211057692308,\n",
       " 278.58,\n",
       " 459.82,\n",
       " 2262.28,\n",
       " 1508.1211057692308,\n",
       " 531.74,\n",
       " 339.89,\n",
       " 691.9,\n",
       " 684.61,\n",
       " 1537.45,\n",
       " 1516.08,\n",
       " 305.19,\n",
       " 714.51,\n",
       " 1274.21,\n",
       " 1145.13,\n",
       " 238.97,\n",
       " 731.51,\n",
       " 248.77,\n",
       " 610.78,\n",
       " 377.43,\n",
       " 366.02,\n",
       " 355.95]"
      ]
     },
     "execution_count": 59,
     "metadata": {},
     "output_type": "execute_result"
    }
   ],
   "source": [
    "Y1=[i for i in y3 if i not in outliers]\n",
    "Y1\n"
   ]
  },
  {
   "cell_type": "code",
   "execution_count": 60,
   "metadata": {},
   "outputs": [],
   "source": [
    "m_x3=np.reshape(np.array(fi['Mar Cap - Crore'][(fi['Mar Cap - Crore']>5000)&(fi['Mar Cap - Crore']<20000)&(fi['Sales Qtr - Crore'].isin(Y1))]),(-1,1))\n",
    "m_y3=np.reshape(np.array(fi['Sales Qtr - Crore'][(fi['Mar Cap - Crore']>5000)&(fi['Mar Cap - Crore']<20000)&(fi['Sales Qtr - Crore'].isin(Y1))]),(-1,1))"
   ]
  },
  {
   "cell_type": "code",
   "execution_count": 61,
   "metadata": {},
   "outputs": [
    {
     "data": {
      "text/html": [
       "<style>#sk-container-id-3 {color: black;background-color: white;}#sk-container-id-3 pre{padding: 0;}#sk-container-id-3 div.sk-toggleable {background-color: white;}#sk-container-id-3 label.sk-toggleable__label {cursor: pointer;display: block;width: 100%;margin-bottom: 0;padding: 0.3em;box-sizing: border-box;text-align: center;}#sk-container-id-3 label.sk-toggleable__label-arrow:before {content: \"▸\";float: left;margin-right: 0.25em;color: #696969;}#sk-container-id-3 label.sk-toggleable__label-arrow:hover:before {color: black;}#sk-container-id-3 div.sk-estimator:hover label.sk-toggleable__label-arrow:before {color: black;}#sk-container-id-3 div.sk-toggleable__content {max-height: 0;max-width: 0;overflow: hidden;text-align: left;background-color: #f0f8ff;}#sk-container-id-3 div.sk-toggleable__content pre {margin: 0.2em;color: black;border-radius: 0.25em;background-color: #f0f8ff;}#sk-container-id-3 input.sk-toggleable__control:checked~div.sk-toggleable__content {max-height: 200px;max-width: 100%;overflow: auto;}#sk-container-id-3 input.sk-toggleable__control:checked~label.sk-toggleable__label-arrow:before {content: \"▾\";}#sk-container-id-3 div.sk-estimator input.sk-toggleable__control:checked~label.sk-toggleable__label {background-color: #d4ebff;}#sk-container-id-3 div.sk-label input.sk-toggleable__control:checked~label.sk-toggleable__label {background-color: #d4ebff;}#sk-container-id-3 input.sk-hidden--visually {border: 0;clip: rect(1px 1px 1px 1px);clip: rect(1px, 1px, 1px, 1px);height: 1px;margin: -1px;overflow: hidden;padding: 0;position: absolute;width: 1px;}#sk-container-id-3 div.sk-estimator {font-family: monospace;background-color: #f0f8ff;border: 1px dotted black;border-radius: 0.25em;box-sizing: border-box;margin-bottom: 0.5em;}#sk-container-id-3 div.sk-estimator:hover {background-color: #d4ebff;}#sk-container-id-3 div.sk-parallel-item::after {content: \"\";width: 100%;border-bottom: 1px solid gray;flex-grow: 1;}#sk-container-id-3 div.sk-label:hover label.sk-toggleable__label {background-color: #d4ebff;}#sk-container-id-3 div.sk-serial::before {content: \"\";position: absolute;border-left: 1px solid gray;box-sizing: border-box;top: 0;bottom: 0;left: 50%;z-index: 0;}#sk-container-id-3 div.sk-serial {display: flex;flex-direction: column;align-items: center;background-color: white;padding-right: 0.2em;padding-left: 0.2em;position: relative;}#sk-container-id-3 div.sk-item {position: relative;z-index: 1;}#sk-container-id-3 div.sk-parallel {display: flex;align-items: stretch;justify-content: center;background-color: white;position: relative;}#sk-container-id-3 div.sk-item::before, #sk-container-id-3 div.sk-parallel-item::before {content: \"\";position: absolute;border-left: 1px solid gray;box-sizing: border-box;top: 0;bottom: 0;left: 50%;z-index: -1;}#sk-container-id-3 div.sk-parallel-item {display: flex;flex-direction: column;z-index: 1;position: relative;background-color: white;}#sk-container-id-3 div.sk-parallel-item:first-child::after {align-self: flex-end;width: 50%;}#sk-container-id-3 div.sk-parallel-item:last-child::after {align-self: flex-start;width: 50%;}#sk-container-id-3 div.sk-parallel-item:only-child::after {width: 0;}#sk-container-id-3 div.sk-dashed-wrapped {border: 1px dashed gray;margin: 0 0.4em 0.5em 0.4em;box-sizing: border-box;padding-bottom: 0.4em;background-color: white;}#sk-container-id-3 div.sk-label label {font-family: monospace;font-weight: bold;display: inline-block;line-height: 1.2em;}#sk-container-id-3 div.sk-label-container {text-align: center;}#sk-container-id-3 div.sk-container {/* jupyter's `normalize.less` sets `[hidden] { display: none; }` but bootstrap.min.css set `[hidden] { display: none !important; }` so we also need the `!important` here to be able to override the default hidden behavior on the sphinx rendered scikit-learn.org. See: https://github.com/scikit-learn/scikit-learn/issues/21755 */display: inline-block !important;position: relative;}#sk-container-id-3 div.sk-text-repr-fallback {display: none;}</style><div id=\"sk-container-id-3\" class=\"sk-top-container\"><div class=\"sk-text-repr-fallback\"><pre>LinearRegression()</pre><b>In a Jupyter environment, please rerun this cell to show the HTML representation or trust the notebook. <br />On GitHub, the HTML representation is unable to render, please try loading this page with nbviewer.org.</b></div><div class=\"sk-container\" hidden><div class=\"sk-item\"><div class=\"sk-estimator sk-toggleable\"><input class=\"sk-toggleable__control sk-hidden--visually\" id=\"sk-estimator-id-3\" type=\"checkbox\" checked><label for=\"sk-estimator-id-3\" class=\"sk-toggleable__label sk-toggleable__label-arrow\">LinearRegression</label><div class=\"sk-toggleable__content\"><pre>LinearRegression()</pre></div></div></div></div></div>"
      ],
      "text/plain": [
       "LinearRegression()"
      ]
     },
     "execution_count": 61,
     "metadata": {},
     "output_type": "execute_result"
    }
   ],
   "source": [
    "x_train, x_test, y_train, y_test = train_test_split(m_x3, m_y3, test_size=0.2, random_state=42)\n",
    "\n",
    "# Train linear regression model\n",
    "model = LinearRegression()\n",
    "model.fit(x_train, y_train)"
   ]
  },
  {
   "cell_type": "code",
   "execution_count": 62,
   "metadata": {},
   "outputs": [
    {
     "name": "stdout",
     "output_type": "stream",
     "text": [
      "Mean Squared Error: 450129.416189529\n",
      "R^2 Score: 0.11125128352287628\n"
     ]
    }
   ],
   "source": [
    "y_pred = model.predict(x_test)\n",
    "\n",
    "# Evaluate model\n",
    "mse = mean_squared_error(y_test, y_pred)\n",
    "r2 = r2_score(y_test, y_pred)\n",
    "print(f'Mean Squared Error: {mse}')\n",
    "print(f'R^2 Score: {r2}')\n"
   ]
  },
  {
   "cell_type": "code",
   "execution_count": 63,
   "metadata": {},
   "outputs": [
    {
     "data": {
      "image/png": "[encoded data removed]",
      "text/plain": [
       "<Figure size 640x480 with 1 Axes>"
      ]
     },
     "metadata": {},
     "output_type": "display_data"
    }
   ],
   "source": [
    "plt.scatter(x_test, y_test, color='black')\n",
    "plt.plot(x_test, y_pred, color='blue', linewidth=3)\n",
    "plt.xlabel('mark cap')\n",
    "plt.ylabel('sales quarterly')\n",
    "plt.title('Linear Regression: Predicted vs. Actual')\n",
    "plt.show()"
   ]
  },
  {
   "cell_type": "code",
   "execution_count": 64,
   "metadata": {},
   "outputs": [
    {
     "data": {
      "text/plain": [
       "(559.725, 2630.95)"
      ]
     },
     "execution_count": 64,
     "metadata": {},
     "output_type": "execute_result"
    }
   ],
   "source": [
    "#m=np.reshape(np.array(fi['Sales Qtr - Crore'][(fi['Mar Cap - Crore']>2000)&(fi['Sales Qtr - Crore'].isin(Y1))]),(-1,1))\n",
    "m=fi['Mar Cap - Crore']\n",
    "n=fi['Sales Qtr - Crore']\n",
    "q1=np.percentile(n,25)\n",
    "q3=np.percentile(n,75)\n",
    "q1,q3"
   ]
  },
  {
   "cell_type": "code",
   "execution_count": 65,
   "metadata": {},
   "outputs": [
    {
     "data": {
      "text/plain": [
       "2071.225"
      ]
     },
     "execution_count": 65,
     "metadata": {},
     "output_type": "execute_result"
    }
   ],
   "source": [
    "iqr=q3-q1\n",
    "iqr"
   ]
  },
  {
   "cell_type": "code",
   "execution_count": 66,
   "metadata": {},
   "outputs": [
    {
     "data": {
      "text/plain": [
       "(-2547.1124999999997, 5737.787499999999)"
      ]
     },
     "execution_count": 66,
     "metadata": {},
     "output_type": "execute_result"
    }
   ],
   "source": [
    "low=q1-1.5*iqr\n",
    "upp=q3+1.5*iqr\n",
    "low,upp"
   ]
  },
  {
   "cell_type": "code",
   "execution_count": 67,
   "metadata": {},
   "outputs": [
    {
     "data": {
      "text/plain": [
       "{'whiskers': [<matplotlib.lines.Line2D at 0x1e21bfd5d80>,\n",
       "  <matplotlib.lines.Line2D at 0x1e21bfd6020>],\n",
       " 'caps': [<matplotlib.lines.Line2D at 0x1e21bfd62c0>,\n",
       "  <matplotlib.lines.Line2D at 0x1e21bfd6560>],\n",
       " 'boxes': [<matplotlib.lines.Line2D at 0x1e21bfd5ae0>],\n",
       " 'medians': [<matplotlib.lines.Line2D at 0x1e21bfd6800>],\n",
       " 'fliers': [<matplotlib.lines.Line2D at 0x1e21bfd6aa0>],\n",
       " 'means': []}"
      ]
     },
     "execution_count": 67,
     "metadata": {},
     "output_type": "execute_result"
    },
    {
     "data": {
      "image/png": "[encoded data removed]",
      "text/plain": [
       "<Figure size 640x480 with 1 Axes>"
      ]
     },
     "metadata": {},
     "output_type": "display_data"
    }
   ],
   "source": [
    "plt.boxplot(fi['Sales Qtr - Crore'])"
   ]
  },
  {
   "cell_type": "code",
   "execution_count": null,
   "metadata": {},
   "outputs": [],
   "source": []
  },
  {
   "cell_type": "code",
   "execution_count": 68,
   "metadata": {},
   "outputs": [
    {
     "name": "stdout",
     "output_type": "stream",
     "text": [
      "[]\n"
     ]
    }
   ],
   "source": [
    "m_y1=np.reshape(np.array(fi['Sales Qtr - Crore'][(fi['Mar Cap - Crore']>20000)&(fi['Sales Qtr - Crore'].isin(Y1))]),(-1,1))\n",
    "m_x1=np.reshape(np.array(fi['Mar Cap - Crore'][(fi['Mar Cap - Crore']>20000)&(fi['Sales Qtr - Crore'].isin(Y1))]),(-1,1))\n",
    "print(m_y1)\n"
   ]
  },
  {
   "cell_type": "code",
   "execution_count": 69,
   "metadata": {},
   "outputs": [
    {
     "data": {
      "text/plain": [
       "array([], shape=(0, 1), dtype=float64)"
      ]
     },
     "execution_count": 69,
     "metadata": {},
     "output_type": "execute_result"
    }
   ],
   "source": [
    "m_y2=np.reshape(np.array(fi['Sales Qtr - Crore'][(fi['Mar Cap - Crore']<5000)&(fi['Sales Qtr - Crore'].isin(Y1))]),(-1,1))\n",
    "m_x2=np.reshape(np.array(fi['Mar Cap - Crore'][(fi['Mar Cap - Crore']<5000)&(fi['Sales Qtr - Crore'].isin(Y1))]),(-1,1))\n",
    "m_y2\n"
   ]
  },
  {
   "cell_type": "code",
   "execution_count": 70,
   "metadata": {},
   "outputs": [
    {
     "data": {
      "text/html": [
       "<div>\n",
       "<style scoped>\n",
       "    .dataframe tbody tr th:only-of-type {\n",
       "        vertical-align: middle;\n",
       "    }\n",
       "\n",
       "    .dataframe tbody tr th {\n",
       "        vertical-align: top;\n",
       "    }\n",
       "\n",
       "    .dataframe thead th {\n",
       "        text-align: right;\n",
       "    }\n",
       "</style>\n",
       "<table border=\"1\" class=\"dataframe\">\n",
       "  <thead>\n",
       "    <tr style=\"text-align: right;\">\n",
       "      <th></th>\n",
       "      <th>S.No.</th>\n",
       "      <th>Name</th>\n",
       "      <th>Mar Cap - Crore</th>\n",
       "      <th>Sales Qtr - Crore</th>\n",
       "      <th>label</th>\n",
       "    </tr>\n",
       "  </thead>\n",
       "  <tbody>\n",
       "    <tr>\n",
       "      <th>0</th>\n",
       "      <td>1</td>\n",
       "      <td>Reliance Inds.</td>\n",
       "      <td>583436.72</td>\n",
       "      <td>99810.00</td>\n",
       "      <td>large</td>\n",
       "    </tr>\n",
       "    <tr>\n",
       "      <th>1</th>\n",
       "      <td>2</td>\n",
       "      <td>TCS</td>\n",
       "      <td>563709.84</td>\n",
       "      <td>30904.00</td>\n",
       "      <td>large</td>\n",
       "    </tr>\n",
       "    <tr>\n",
       "      <th>2</th>\n",
       "      <td>3</td>\n",
       "      <td>HDFC Bank</td>\n",
       "      <td>482953.59</td>\n",
       "      <td>20581.27</td>\n",
       "      <td>large</td>\n",
       "    </tr>\n",
       "    <tr>\n",
       "      <th>3</th>\n",
       "      <td>4</td>\n",
       "      <td>ITC</td>\n",
       "      <td>320985.27</td>\n",
       "      <td>9772.02</td>\n",
       "      <td>large</td>\n",
       "    </tr>\n",
       "    <tr>\n",
       "      <th>4</th>\n",
       "      <td>5</td>\n",
       "      <td>H D F C</td>\n",
       "      <td>289497.37</td>\n",
       "      <td>16840.51</td>\n",
       "      <td>large</td>\n",
       "    </tr>\n",
       "    <tr>\n",
       "      <th>...</th>\n",
       "      <td>...</td>\n",
       "      <td>...</td>\n",
       "      <td>...</td>\n",
       "      <td>...</td>\n",
       "      <td>...</td>\n",
       "    </tr>\n",
       "    <tr>\n",
       "      <th>482</th>\n",
       "      <td>495</td>\n",
       "      <td>Prime Focus</td>\n",
       "      <td>3031.50</td>\n",
       "      <td>609.61</td>\n",
       "      <td>small</td>\n",
       "    </tr>\n",
       "    <tr>\n",
       "      <th>483</th>\n",
       "      <td>496</td>\n",
       "      <td>Lak. Vilas Bank</td>\n",
       "      <td>3029.57</td>\n",
       "      <td>790.17</td>\n",
       "      <td>small</td>\n",
       "    </tr>\n",
       "    <tr>\n",
       "      <th>484</th>\n",
       "      <td>497</td>\n",
       "      <td>NOCIL</td>\n",
       "      <td>3026.26</td>\n",
       "      <td>249.27</td>\n",
       "      <td>small</td>\n",
       "    </tr>\n",
       "    <tr>\n",
       "      <th>485</th>\n",
       "      <td>498</td>\n",
       "      <td>Orient Cement</td>\n",
       "      <td>3024.32</td>\n",
       "      <td>511.53</td>\n",
       "      <td>small</td>\n",
       "    </tr>\n",
       "    <tr>\n",
       "      <th>486</th>\n",
       "      <td>499</td>\n",
       "      <td>Natl.Fertilizer</td>\n",
       "      <td>3017.07</td>\n",
       "      <td>2840.75</td>\n",
       "      <td>small</td>\n",
       "    </tr>\n",
       "  </tbody>\n",
       "</table>\n",
       "<p>479 rows × 5 columns</p>\n",
       "</div>"
      ],
      "text/plain": [
       "     S.No.             Name  Mar Cap - Crore  Sales Qtr - Crore  label\n",
       "0        1   Reliance Inds.        583436.72           99810.00  large\n",
       "1        2              TCS        563709.84           30904.00  large\n",
       "2        3        HDFC Bank        482953.59           20581.27  large\n",
       "3        4              ITC        320985.27            9772.02  large\n",
       "4        5          H D F C        289497.37           16840.51  large\n",
       "..     ...              ...              ...                ...    ...\n",
       "482    495      Prime Focus          3031.50             609.61  small\n",
       "483    496  Lak. Vilas Bank          3029.57             790.17  small\n",
       "484    497            NOCIL          3026.26             249.27  small\n",
       "485    498    Orient Cement          3024.32             511.53  small\n",
       "486    499  Natl.Fertilizer          3017.07            2840.75  small\n",
       "\n",
       "[479 rows x 5 columns]"
      ]
     },
     "execution_count": 70,
     "metadata": {},
     "output_type": "execute_result"
    }
   ],
   "source": [
    "def change_func(x):\n",
    "    if x < 5000:\n",
    "        return \"small\"\n",
    "    elif 5000 <= x < 20000:\n",
    "        return \"medium\"\n",
    "    elif 20000 < x:\n",
    "        return \"large\"\n",
    "    else:\n",
    "        pass\n",
    "fi['label']=fi['Mar Cap - Crore'].apply(lambda x:change_func(x))\n",
    "fi"
   ]
  },
  {
   "cell_type": "code",
   "execution_count": 71,
   "metadata": {},
   "outputs": [
    {
     "data": {
      "text/html": [
       "<div>\n",
       "<style scoped>\n",
       "    .dataframe tbody tr th:only-of-type {\n",
       "        vertical-align: middle;\n",
       "    }\n",
       "\n",
       "    .dataframe tbody tr th {\n",
       "        vertical-align: top;\n",
       "    }\n",
       "\n",
       "    .dataframe thead th {\n",
       "        text-align: right;\n",
       "    }\n",
       "</style>\n",
       "<table border=\"1\" class=\"dataframe\">\n",
       "  <thead>\n",
       "    <tr style=\"text-align: right;\">\n",
       "      <th></th>\n",
       "      <th>S.No.</th>\n",
       "      <th>Name</th>\n",
       "      <th>Mar Cap - Crore</th>\n",
       "      <th>Sales Qtr - Crore</th>\n",
       "      <th>label</th>\n",
       "    </tr>\n",
       "  </thead>\n",
       "  <tbody>\n",
       "    <tr>\n",
       "      <th>357</th>\n",
       "      <td>370</td>\n",
       "      <td>Jagran Prakashan</td>\n",
       "      <td>4995.05</td>\n",
       "      <td>598.07</td>\n",
       "      <td>small</td>\n",
       "    </tr>\n",
       "    <tr>\n",
       "      <th>358</th>\n",
       "      <td>371</td>\n",
       "      <td>Elgi Equipment</td>\n",
       "      <td>4954.08</td>\n",
       "      <td>415.42</td>\n",
       "      <td>small</td>\n",
       "    </tr>\n",
       "    <tr>\n",
       "      <th>359</th>\n",
       "      <td>372</td>\n",
       "      <td>JK Lakshmi Cem.</td>\n",
       "      <td>4931.55</td>\n",
       "      <td>837.41</td>\n",
       "      <td>small</td>\n",
       "    </tr>\n",
       "    <tr>\n",
       "      <th>360</th>\n",
       "      <td>373</td>\n",
       "      <td>Zydus Wellness</td>\n",
       "      <td>4921.45</td>\n",
       "      <td>132.40</td>\n",
       "      <td>small</td>\n",
       "    </tr>\n",
       "    <tr>\n",
       "      <th>361</th>\n",
       "      <td>374</td>\n",
       "      <td>Equitas Holdings</td>\n",
       "      <td>4886.09</td>\n",
       "      <td>429.86</td>\n",
       "      <td>small</td>\n",
       "    </tr>\n",
       "    <tr>\n",
       "      <th>...</th>\n",
       "      <td>...</td>\n",
       "      <td>...</td>\n",
       "      <td>...</td>\n",
       "      <td>...</td>\n",
       "      <td>...</td>\n",
       "    </tr>\n",
       "    <tr>\n",
       "      <th>482</th>\n",
       "      <td>495</td>\n",
       "      <td>Prime Focus</td>\n",
       "      <td>3031.50</td>\n",
       "      <td>609.61</td>\n",
       "      <td>small</td>\n",
       "    </tr>\n",
       "    <tr>\n",
       "      <th>483</th>\n",
       "      <td>496</td>\n",
       "      <td>Lak. Vilas Bank</td>\n",
       "      <td>3029.57</td>\n",
       "      <td>790.17</td>\n",
       "      <td>small</td>\n",
       "    </tr>\n",
       "    <tr>\n",
       "      <th>484</th>\n",
       "      <td>497</td>\n",
       "      <td>NOCIL</td>\n",
       "      <td>3026.26</td>\n",
       "      <td>249.27</td>\n",
       "      <td>small</td>\n",
       "    </tr>\n",
       "    <tr>\n",
       "      <th>485</th>\n",
       "      <td>498</td>\n",
       "      <td>Orient Cement</td>\n",
       "      <td>3024.32</td>\n",
       "      <td>511.53</td>\n",
       "      <td>small</td>\n",
       "    </tr>\n",
       "    <tr>\n",
       "      <th>486</th>\n",
       "      <td>499</td>\n",
       "      <td>Natl.Fertilizer</td>\n",
       "      <td>3017.07</td>\n",
       "      <td>2840.75</td>\n",
       "      <td>small</td>\n",
       "    </tr>\n",
       "  </tbody>\n",
       "</table>\n",
       "<p>128 rows × 5 columns</p>\n",
       "</div>"
      ],
      "text/plain": [
       "     S.No.              Name  Mar Cap - Crore  Sales Qtr - Crore  label\n",
       "357    370  Jagran Prakashan          4995.05             598.07  small\n",
       "358    371    Elgi Equipment          4954.08             415.42  small\n",
       "359    372   JK Lakshmi Cem.          4931.55             837.41  small\n",
       "360    373    Zydus Wellness          4921.45             132.40  small\n",
       "361    374  Equitas Holdings          4886.09             429.86  small\n",
       "..     ...               ...              ...                ...    ...\n",
       "482    495       Prime Focus          3031.50             609.61  small\n",
       "483    496   Lak. Vilas Bank          3029.57             790.17  small\n",
       "484    497             NOCIL          3026.26             249.27  small\n",
       "485    498     Orient Cement          3024.32             511.53  small\n",
       "486    499   Natl.Fertilizer          3017.07            2840.75  small\n",
       "\n",
       "[128 rows x 5 columns]"
      ]
     },
     "execution_count": 71,
     "metadata": {},
     "output_type": "execute_result"
    }
   ],
   "source": [
    "fi[fi['label']=='small']"
   ]
  },
  {
   "cell_type": "code",
   "execution_count": 72,
   "metadata": {},
   "outputs": [
    {
     "name": "stderr",
     "output_type": "stream",
     "text": [
      "C:\\Users\\Asus\\AppData\\Local\\Temp\\ipykernel_4964\\986169089.py:1: FutureWarning: The default value of numeric_only in DataFrameGroupBy.sum is deprecated. In a future version, numeric_only will default to False. Either specify numeric_only or select only columns which should be valid for the function.\n",
      "  fi.groupby(['label']).sum().plot(kind='pie',y='Mar Cap - Crore',autopct='%1.0f%%')\n"
     ]
    },
    {
     "data": {
      "text/plain": [
       "<AxesSubplot: ylabel='Mar Cap - Crore'>"
      ]
     },
     "execution_count": 72,
     "metadata": {},
     "output_type": "execute_result"
    },
    {
     "data": {
      "image/png": "[encoded data removed]",
      "text/plain": [
       "<Figure size 640x480 with 1 Axes>"
      ]
     },
     "metadata": {},
     "output_type": "display_data"
    }
   ],
   "source": [
    "fi.groupby(['label']).sum().plot(kind='pie',y='Mar Cap - Crore',autopct='%1.0f%%')"
   ]
  },
  {
   "cell_type": "code",
   "execution_count": 73,
   "metadata": {},
   "outputs": [
    {
     "name": "stderr",
     "output_type": "stream",
     "text": [
      "C:\\Users\\Asus\\AppData\\Local\\Temp\\ipykernel_4964\\3082528944.py:1: FutureWarning: \n",
      "\n",
      "Passing `palette` without assigning `hue` is deprecated and will be removed in v0.14.0. Assign the `x` variable to `hue` and set `legend=False` for the same effect.\n",
      "\n",
      "  sns.countplot(x='label',data=fi,palette='Set2')\n"
     ]
    },
    {
     "data": {
      "image/png": "[encoded data removed]",
      "text/plain": [
       "<Figure size 640x480 with 1 Axes>"
      ]
     },
     "metadata": {},
     "output_type": "display_data"
    }
   ],
   "source": [
    "sns.countplot(x='label',data=fi,palette='Set2')\n",
    "plt.show()"
   ]
  },
  {
   "cell_type": "code",
   "execution_count": 74,
   "metadata": {},
   "outputs": [
    {
     "name": "stdout",
     "output_type": "stream",
     "text": [
      "        S.No.  Name  Mar Cap - Crore  Sales Qtr - Crore\n",
      "label                                                  \n",
      "large     135   135              135                135\n",
      "medium    216   216              216                216\n",
      "small     128   128              128                128\n"
     ]
    },
    {
     "data": {
      "text/plain": [
       "(479, 5)"
      ]
     },
     "execution_count": 74,
     "metadata": {},
     "output_type": "execute_result"
    }
   ],
   "source": [
    "print(fi.groupby(['label']).count())\n",
    "fi.shape"
   ]
  },
  {
   "cell_type": "code",
   "execution_count": 75,
   "metadata": {},
   "outputs": [],
   "source": [
    "fi.to_csv('mod_fin_data.csv')"
   ]
  },
  {
   "cell_type": "code",
   "execution_count": 76,
   "metadata": {},
   "outputs": [
    {
     "data": {
      "text/html": [
       "<div>\n",
       "<style scoped>\n",
       "    .dataframe tbody tr th:only-of-type {\n",
       "        vertical-align: middle;\n",
       "    }\n",
       "\n",
       "    .dataframe tbody tr th {\n",
       "        vertical-align: top;\n",
       "    }\n",
       "\n",
       "    .dataframe thead th {\n",
       "        text-align: right;\n",
       "    }\n",
       "</style>\n",
       "<table border=\"1\" class=\"dataframe\">\n",
       "  <thead>\n",
       "    <tr style=\"text-align: right;\">\n",
       "      <th></th>\n",
       "      <th>S.No.</th>\n",
       "      <th>Name</th>\n",
       "      <th>Mar Cap - Crore</th>\n",
       "      <th>Sales Qtr - Crore</th>\n",
       "      <th>label</th>\n",
       "    </tr>\n",
       "  </thead>\n",
       "  <tbody>\n",
       "    <tr>\n",
       "      <th>0</th>\n",
       "      <td>1</td>\n",
       "      <td>Reliance Inds.</td>\n",
       "      <td>583436.72</td>\n",
       "      <td>99810.00</td>\n",
       "      <td>large</td>\n",
       "    </tr>\n",
       "    <tr>\n",
       "      <th>1</th>\n",
       "      <td>2</td>\n",
       "      <td>TCS</td>\n",
       "      <td>563709.84</td>\n",
       "      <td>30904.00</td>\n",
       "      <td>large</td>\n",
       "    </tr>\n",
       "    <tr>\n",
       "      <th>2</th>\n",
       "      <td>3</td>\n",
       "      <td>HDFC Bank</td>\n",
       "      <td>482953.59</td>\n",
       "      <td>20581.27</td>\n",
       "      <td>large</td>\n",
       "    </tr>\n",
       "    <tr>\n",
       "      <th>3</th>\n",
       "      <td>4</td>\n",
       "      <td>ITC</td>\n",
       "      <td>320985.27</td>\n",
       "      <td>9772.02</td>\n",
       "      <td>large</td>\n",
       "    </tr>\n",
       "    <tr>\n",
       "      <th>4</th>\n",
       "      <td>5</td>\n",
       "      <td>H D F C</td>\n",
       "      <td>289497.37</td>\n",
       "      <td>16840.51</td>\n",
       "      <td>large</td>\n",
       "    </tr>\n",
       "    <tr>\n",
       "      <th>...</th>\n",
       "      <td>...</td>\n",
       "      <td>...</td>\n",
       "      <td>...</td>\n",
       "      <td>...</td>\n",
       "      <td>...</td>\n",
       "    </tr>\n",
       "    <tr>\n",
       "      <th>131</th>\n",
       "      <td>134</td>\n",
       "      <td>Cholaman.Inv.&amp;Fn</td>\n",
       "      <td>20832.40</td>\n",
       "      <td>1404.33</td>\n",
       "      <td>large</td>\n",
       "    </tr>\n",
       "    <tr>\n",
       "      <th>132</th>\n",
       "      <td>135</td>\n",
       "      <td>Indraprastha Gas</td>\n",
       "      <td>20779.52</td>\n",
       "      <td>1183.90</td>\n",
       "      <td>large</td>\n",
       "    </tr>\n",
       "    <tr>\n",
       "      <th>133</th>\n",
       "      <td>136</td>\n",
       "      <td>M R P L</td>\n",
       "      <td>20750.78</td>\n",
       "      <td>14100.98</td>\n",
       "      <td>large</td>\n",
       "    </tr>\n",
       "    <tr>\n",
       "      <th>134</th>\n",
       "      <td>137</td>\n",
       "      <td>Glaxosmi. Pharma</td>\n",
       "      <td>20489.35</td>\n",
       "      <td>703.91</td>\n",
       "      <td>large</td>\n",
       "    </tr>\n",
       "    <tr>\n",
       "      <th>135</th>\n",
       "      <td>138</td>\n",
       "      <td>PNB Housing</td>\n",
       "      <td>20037.85</td>\n",
       "      <td>1438.49</td>\n",
       "      <td>large</td>\n",
       "    </tr>\n",
       "  </tbody>\n",
       "</table>\n",
       "<p>135 rows × 5 columns</p>\n",
       "</div>"
      ],
      "text/plain": [
       "     S.No.              Name  Mar Cap - Crore  Sales Qtr - Crore  label\n",
       "0        1    Reliance Inds.        583436.72           99810.00  large\n",
       "1        2               TCS        563709.84           30904.00  large\n",
       "2        3         HDFC Bank        482953.59           20581.27  large\n",
       "3        4               ITC        320985.27            9772.02  large\n",
       "4        5           H D F C        289497.37           16840.51  large\n",
       "..     ...               ...              ...                ...    ...\n",
       "131    134  Cholaman.Inv.&Fn         20832.40            1404.33  large\n",
       "132    135  Indraprastha Gas         20779.52            1183.90  large\n",
       "133    136           M R P L         20750.78           14100.98  large\n",
       "134    137  Glaxosmi. Pharma         20489.35             703.91  large\n",
       "135    138       PNB Housing         20037.85            1438.49  large\n",
       "\n",
       "[135 rows x 5 columns]"
      ]
     },
     "execution_count": 76,
     "metadata": {},
     "output_type": "execute_result"
    }
   ],
   "source": [
    "fi[fi['label']=='large']"
   ]
  },
  {
   "cell_type": "code",
   "execution_count": 77,
   "metadata": {},
   "outputs": [
    {
     "data": {
      "text/html": [
       "<div>\n",
       "<style scoped>\n",
       "    .dataframe tbody tr th:only-of-type {\n",
       "        vertical-align: middle;\n",
       "    }\n",
       "\n",
       "    .dataframe tbody tr th {\n",
       "        vertical-align: top;\n",
       "    }\n",
       "\n",
       "    .dataframe thead th {\n",
       "        text-align: right;\n",
       "    }\n",
       "</style>\n",
       "<table border=\"1\" class=\"dataframe\">\n",
       "  <thead>\n",
       "    <tr style=\"text-align: right;\">\n",
       "      <th></th>\n",
       "      <th>S.No.</th>\n",
       "      <th>Name</th>\n",
       "      <th>Mar Cap - Crore</th>\n",
       "      <th>Sales Qtr - Crore</th>\n",
       "      <th>label</th>\n",
       "    </tr>\n",
       "  </thead>\n",
       "  <tbody>\n",
       "    <tr>\n",
       "      <th>136</th>\n",
       "      <td>139</td>\n",
       "      <td>RBL Bank</td>\n",
       "      <td>19748.79</td>\n",
       "      <td>1150.79</td>\n",
       "      <td>medium</td>\n",
       "    </tr>\n",
       "    <tr>\n",
       "      <th>137</th>\n",
       "      <td>140</td>\n",
       "      <td>Castrol India</td>\n",
       "      <td>18803.22</td>\n",
       "      <td>970.30</td>\n",
       "      <td>medium</td>\n",
       "    </tr>\n",
       "    <tr>\n",
       "      <th>138</th>\n",
       "      <td>141</td>\n",
       "      <td>Canara Bank</td>\n",
       "      <td>18590.66</td>\n",
       "      <td>10774.64</td>\n",
       "      <td>medium</td>\n",
       "    </tr>\n",
       "    <tr>\n",
       "      <th>139</th>\n",
       "      <td>142</td>\n",
       "      <td>GRUH Finance</td>\n",
       "      <td>18535.09</td>\n",
       "      <td>428.47</td>\n",
       "      <td>medium</td>\n",
       "    </tr>\n",
       "    <tr>\n",
       "      <th>140</th>\n",
       "      <td>143</td>\n",
       "      <td>KIOCL</td>\n",
       "      <td>18534.15</td>\n",
       "      <td>442.81</td>\n",
       "      <td>medium</td>\n",
       "    </tr>\n",
       "    <tr>\n",
       "      <th>...</th>\n",
       "      <td>...</td>\n",
       "      <td>...</td>\n",
       "      <td>...</td>\n",
       "      <td>...</td>\n",
       "      <td>...</td>\n",
       "    </tr>\n",
       "    <tr>\n",
       "      <th>352</th>\n",
       "      <td>365</td>\n",
       "      <td>DCB Bank</td>\n",
       "      <td>5080.50</td>\n",
       "      <td>610.78</td>\n",
       "      <td>medium</td>\n",
       "    </tr>\n",
       "    <tr>\n",
       "      <th>353</th>\n",
       "      <td>366</td>\n",
       "      <td>Star Cement</td>\n",
       "      <td>5072.67</td>\n",
       "      <td>377.43</td>\n",
       "      <td>medium</td>\n",
       "    </tr>\n",
       "    <tr>\n",
       "      <th>354</th>\n",
       "      <td>367</td>\n",
       "      <td>Netwrk.18 Media</td>\n",
       "      <td>5067.23</td>\n",
       "      <td>366.02</td>\n",
       "      <td>medium</td>\n",
       "    </tr>\n",
       "    <tr>\n",
       "      <th>355</th>\n",
       "      <td>368</td>\n",
       "      <td>Gulf Oil Lubric.</td>\n",
       "      <td>5020.44</td>\n",
       "      <td>355.95</td>\n",
       "      <td>medium</td>\n",
       "    </tr>\n",
       "    <tr>\n",
       "      <th>356</th>\n",
       "      <td>369</td>\n",
       "      <td>UCO Bank</td>\n",
       "      <td>5012.59</td>\n",
       "      <td>3449.55</td>\n",
       "      <td>medium</td>\n",
       "    </tr>\n",
       "  </tbody>\n",
       "</table>\n",
       "<p>216 rows × 5 columns</p>\n",
       "</div>"
      ],
      "text/plain": [
       "     S.No.              Name  Mar Cap - Crore  Sales Qtr - Crore   label\n",
       "136    139          RBL Bank         19748.79            1150.79  medium\n",
       "137    140     Castrol India         18803.22             970.30  medium\n",
       "138    141       Canara Bank         18590.66           10774.64  medium\n",
       "139    142      GRUH Finance         18535.09             428.47  medium\n",
       "140    143             KIOCL         18534.15             442.81  medium\n",
       "..     ...               ...              ...                ...     ...\n",
       "352    365          DCB Bank          5080.50             610.78  medium\n",
       "353    366       Star Cement          5072.67             377.43  medium\n",
       "354    367   Netwrk.18 Media          5067.23             366.02  medium\n",
       "355    368  Gulf Oil Lubric.          5020.44             355.95  medium\n",
       "356    369          UCO Bank          5012.59            3449.55  medium\n",
       "\n",
       "[216 rows x 5 columns]"
      ]
     },
     "execution_count": 77,
     "metadata": {},
     "output_type": "execute_result"
    }
   ],
   "source": [
    "fi[fi['label']=='medium']"
   ]
  },
  {
   "cell_type": "code",
   "execution_count": 78,
   "metadata": {},
   "outputs": [
    {
     "data": {
      "text/html": [
       "<div>\n",
       "<style scoped>\n",
       "    .dataframe tbody tr th:only-of-type {\n",
       "        vertical-align: middle;\n",
       "    }\n",
       "\n",
       "    .dataframe tbody tr th {\n",
       "        vertical-align: top;\n",
       "    }\n",
       "\n",
       "    .dataframe thead th {\n",
       "        text-align: right;\n",
       "    }\n",
       "</style>\n",
       "<table border=\"1\" class=\"dataframe\">\n",
       "  <thead>\n",
       "    <tr style=\"text-align: right;\">\n",
       "      <th></th>\n",
       "      <th>S.No.</th>\n",
       "      <th>Name</th>\n",
       "      <th>Mar Cap - Crore</th>\n",
       "      <th>Sales Qtr - Crore</th>\n",
       "      <th>label</th>\n",
       "    </tr>\n",
       "  </thead>\n",
       "  <tbody>\n",
       "    <tr>\n",
       "      <th>357</th>\n",
       "      <td>370</td>\n",
       "      <td>Jagran Prakashan</td>\n",
       "      <td>4995.05</td>\n",
       "      <td>598.07</td>\n",
       "      <td>small</td>\n",
       "    </tr>\n",
       "    <tr>\n",
       "      <th>358</th>\n",
       "      <td>371</td>\n",
       "      <td>Elgi Equipment</td>\n",
       "      <td>4954.08</td>\n",
       "      <td>415.42</td>\n",
       "      <td>small</td>\n",
       "    </tr>\n",
       "    <tr>\n",
       "      <th>359</th>\n",
       "      <td>372</td>\n",
       "      <td>JK Lakshmi Cem.</td>\n",
       "      <td>4931.55</td>\n",
       "      <td>837.41</td>\n",
       "      <td>small</td>\n",
       "    </tr>\n",
       "    <tr>\n",
       "      <th>360</th>\n",
       "      <td>373</td>\n",
       "      <td>Zydus Wellness</td>\n",
       "      <td>4921.45</td>\n",
       "      <td>132.40</td>\n",
       "      <td>small</td>\n",
       "    </tr>\n",
       "    <tr>\n",
       "      <th>361</th>\n",
       "      <td>374</td>\n",
       "      <td>Equitas Holdings</td>\n",
       "      <td>4886.09</td>\n",
       "      <td>429.86</td>\n",
       "      <td>small</td>\n",
       "    </tr>\n",
       "    <tr>\n",
       "      <th>...</th>\n",
       "      <td>...</td>\n",
       "      <td>...</td>\n",
       "      <td>...</td>\n",
       "      <td>...</td>\n",
       "      <td>...</td>\n",
       "    </tr>\n",
       "    <tr>\n",
       "      <th>482</th>\n",
       "      <td>495</td>\n",
       "      <td>Prime Focus</td>\n",
       "      <td>3031.50</td>\n",
       "      <td>609.61</td>\n",
       "      <td>small</td>\n",
       "    </tr>\n",
       "    <tr>\n",
       "      <th>483</th>\n",
       "      <td>496</td>\n",
       "      <td>Lak. Vilas Bank</td>\n",
       "      <td>3029.57</td>\n",
       "      <td>790.17</td>\n",
       "      <td>small</td>\n",
       "    </tr>\n",
       "    <tr>\n",
       "      <th>484</th>\n",
       "      <td>497</td>\n",
       "      <td>NOCIL</td>\n",
       "      <td>3026.26</td>\n",
       "      <td>249.27</td>\n",
       "      <td>small</td>\n",
       "    </tr>\n",
       "    <tr>\n",
       "      <th>485</th>\n",
       "      <td>498</td>\n",
       "      <td>Orient Cement</td>\n",
       "      <td>3024.32</td>\n",
       "      <td>511.53</td>\n",
       "      <td>small</td>\n",
       "    </tr>\n",
       "    <tr>\n",
       "      <th>486</th>\n",
       "      <td>499</td>\n",
       "      <td>Natl.Fertilizer</td>\n",
       "      <td>3017.07</td>\n",
       "      <td>2840.75</td>\n",
       "      <td>small</td>\n",
       "    </tr>\n",
       "  </tbody>\n",
       "</table>\n",
       "<p>128 rows × 5 columns</p>\n",
       "</div>"
      ],
      "text/plain": [
       "     S.No.              Name  Mar Cap - Crore  Sales Qtr - Crore  label\n",
       "357    370  Jagran Prakashan          4995.05             598.07  small\n",
       "358    371    Elgi Equipment          4954.08             415.42  small\n",
       "359    372   JK Lakshmi Cem.          4931.55             837.41  small\n",
       "360    373    Zydus Wellness          4921.45             132.40  small\n",
       "361    374  Equitas Holdings          4886.09             429.86  small\n",
       "..     ...               ...              ...                ...    ...\n",
       "482    495       Prime Focus          3031.50             609.61  small\n",
       "483    496   Lak. Vilas Bank          3029.57             790.17  small\n",
       "484    497             NOCIL          3026.26             249.27  small\n",
       "485    498     Orient Cement          3024.32             511.53  small\n",
       "486    499   Natl.Fertilizer          3017.07            2840.75  small\n",
       "\n",
       "[128 rows x 5 columns]"
      ]
     },
     "execution_count": 78,
     "metadata": {},
     "output_type": "execute_result"
    }
   ],
   "source": [
    "fi[fi['label']=='small']"
   ]
  },
  {
   "cell_type": "code",
   "execution_count": 79,
   "metadata": {},
   "outputs": [
    {
     "data": {
      "image/png": "[encoded data removed]",
      "text/plain": [
       "<Figure size 640x480 with 1 Axes>"
      ]
     },
     "metadata": {},
     "output_type": "display_data"
    },
    {
     "name": "stdout",
     "output_type": "stream",
     "text": [
      "(135,)\n",
      "(135,)\n"
     ]
    }
   ],
   "source": [
    "x1=fi['Mar Cap - Crore'][fi['Mar Cap - Crore']>20000]\n",
    "y1=fi['Sales Qtr - Crore'][fi['Mar Cap - Crore']>20000]\n",
    "plt.scatter(x1,y1)\n",
    "plt.xlabel(\"Mar cap\")\n",
    "plt.ylabel(\"quarterly sales\")\n",
    "plt.show()\n",
    "print(y1.shape)\n",
    "print(x1.shape)\n"
   ]
  },
  {
   "cell_type": "code",
   "execution_count": 80,
   "metadata": {},
   "outputs": [
    {
     "data": {
      "image/png": "[encoded data removed]",
      "text/plain": [
       "<Figure size 640x480 with 1 Axes>"
      ]
     },
     "metadata": {},
     "output_type": "display_data"
    }
   ],
   "source": [
    "x2=fi['Mar Cap - Crore'][fi['Mar Cap - Crore']<5000]\n",
    "y2=fi['Sales Qtr - Crore'][fi['Mar Cap - Crore']<5000]\n",
    "plt.scatter(x2,y2)\n",
    "plt.xlabel(\"Mar cap\")\n",
    "plt.ylabel(\"quarterly sales\")\n",
    "plt.show()"
   ]
  },
  {
   "cell_type": "code",
   "execution_count": 81,
   "metadata": {},
   "outputs": [
    {
     "data": {
      "image/png": "[encoded data removed]",
      "text/plain": [
       "<Figure size 640x480 with 1 Axes>"
      ]
     },
     "metadata": {},
     "output_type": "display_data"
    }
   ],
   "source": [
    "x3=fi['Mar Cap - Crore'][(fi['Mar Cap - Crore']>5000)&(fi['Mar Cap - Crore']<20000)]\n",
    "y3=fi['Sales Qtr - Crore'][(fi['Mar Cap - Crore']>5000)&(fi['Mar Cap - Crore']<20000)]\n",
    "plt.scatter(x3,y3)\n",
    "plt.xlabel(\"Mar cap\")\n",
    "plt.ylabel(\"quarterly sales\")\n",
    "plt.show()"
   ]
  }
 ],
 "metadata": {
  "kernelspec": {
   "display_name": "Python 3",
   "language": "python",
   "name": "python3"
  },
  "language_info": {
   "codemirror_mode": {
    "name": "ipython",
    "version": 3
   },
   "file_extension": ".py",
   "mimetype": "text/x-python",
   "name": "python",
   "nbconvert_exporter": "python",
   "pygments_lexer": "ipython3",
   "version": "3.10.5"
  }
 },
 "nbformat": 4,
 "nbformat_minor": 2
}
